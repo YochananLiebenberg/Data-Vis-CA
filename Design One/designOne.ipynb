{
 "nbformat": 4,
 "nbformat_minor": 0,
 "metadata": {
  "colab": {
   "provenance": []
  },
  "kernelspec": {
   "name": "python3",
   "display_name": "Python 3"
  },
  "language_info": {
   "name": "python"
  }
 },
 "cells": [
  {
   "cell_type": "markdown",
   "source": [
    "# Design One\n",
    "##### The goal of this design is to analyse and visualise the flight network of airlines, airports and routes using the OpenFlights database. The design will focus on understanding the relationships between different airports, airlines, and routes and their geographical distribution.\n",
    "\n",
    "#### Data Abstraction:\n",
    "The design will use five different databases provided by OpenFlights - the Countries database, Airport database, the Airline database, the Route database, and the Plane database. The Airport database contains information about over 10,000 airports, train stations, and ferry terminals around the world, including their unique identifier, name, city, country, IATA and ICAO codes, latitude and longitude, altitude, timezone, daylight savings time, and type. The Airline database contains information about over 5,888 airlines, including their unique identifier, name, alias, IATA and ICAO codes, callsign, country, and active status. The Route database contains information about over 67,663 routes between 3321 airports, including the airline, source airport, destination airport, and number of stops. The Plane database contains information about 173 passenger aircraft and their IATA and ICAO codes. The Countries database contains a list of ISO 3166-1 country codes, which can be used to look up the human-readable country names for the codes used in the Airline and Airport tables."
   ],
   "metadata": {
    "id": "hq-kDX_z_xtO"
   }
  },
  {
   "cell_type": "markdown",
   "source": [
    "#### Task Abstraction:\n",
    "\n",
    "The design will perform the following tasks:\n",
    "- Data Cleaning and Preprocessing - The data from the OpenFlights database will be preprocessed to remove any missing or irrelevant information and to ensure consistency in the data.\n",
    "- Network Analysis - The design will analyse the relationships between the airports, airlines, and routes and create a network graph to visualise the connections. The design will also calculate various network metrics such as the number of nodes, edges, and degrees of the graph.\n",
    "- Geographical Distribution - The design will visualise the geographical distribution of the airports and routes on a map. The latitude and longitude of the airports will be used to plot their locations on the map.\n",
    "- Airline Analysis - The design will analyse the airlines and their connections to the airports and routes. The design will visualise the distribution of airlines across different countries and their number of routes.\n",
    "- Route Analysis - The design will analyse the routes and their connections to the airlines and airports. The design will visualise the distribution of routes between different countries and the number of stops in each route.\n",
    "- Plane Analysis - The design will analyse the types of planes used by the airlines and their distribution. The design will also visualise the relationship between different types of planes and the airlines that operate them."
   ],
   "metadata": {
    "id": "EKOOkSA6_1Dw"
   }
  },
  {
   "cell_type": "markdown",
   "source": [
    "# Data Cleaning and Preprocessing\n",
    "\n",
    "## airlines.dat"
   ],
   "metadata": {
    "id": "9hUKstmr_4Op"
   }
  },
  {
   "cell_type": "code",
   "source": [
    "import pandas as pd\n",
    "airlines = pd.read_csv('airlines.dat', delimiter=',', names=['airline_id', 'name', 'alias', 'iata', 'icao', 'callsign', 'country', 'active'])\n",
    "print(airlines.head())\n",
    "print(airlines.isna().sum())"
   ],
   "metadata": {
    "colab": {
     "base_uri": "https://localhost:8080/"
    },
    "id": "lDnSsCtn_7r-",
    "outputId": "de29a695-4125-4b20-dd56-a14dd27cd2b8"
   },
   "execution_count": 10,
   "outputs": [
    {
     "name": "stdout",
     "output_type": "stream",
     "text": [
      "   airline_id                                          name alias iata icao  \\\n",
      "0          -1                                       Unknown    \\N    -  NaN   \n",
      "1           1                                Private flight    \\N    -  NaN   \n",
      "2           2                                   135 Airways    \\N  NaN  GNL   \n",
      "3           3                                 1Time Airline    \\N   1T  RNX   \n",
      "4           4  2 Sqn No 1 Elementary Flying Training School    \\N  NaN  WYT   \n",
      "\n",
      "  callsign         country active  \n",
      "0       \\N              \\N      Y  \n",
      "1      NaN             NaN      Y  \n",
      "2  GENERAL   United States      N  \n",
      "3  NEXTIME    South Africa      Y  \n",
      "4      NaN  United Kingdom      N  \n",
      "airline_id       0\n",
      "name             0\n",
      "alias          506\n",
      "iata          4627\n",
      "icao            87\n",
      "callsign       808\n",
      "country         15\n",
      "active           0\n",
      "dtype: int64\n"
     ]
    }
   ]
  },
  {
   "cell_type": "code",
   "source": [
    "# Drop unwanted columns\n",
    "airlines.drop(['alias', 'iata', 'callsign'], axis=1, inplace=True)\n",
    "\n",
    "# Remove rows with missing data in icao and country columns\n",
    "airlines.dropna(subset=['icao', 'country'], inplace=True)\n"
   ],
   "metadata": {
    "id": "bQtBXePS_-R-"
   },
   "execution_count": 11,
   "outputs": []
  },
  {
   "cell_type": "code",
   "source": [
    "print(airlines.head())"
   ],
   "metadata": {
    "colab": {
     "base_uri": "https://localhost:8080/"
    },
    "id": "Rxpyh830AA91",
    "outputId": "e9d8b8bf-6d69-4cac-c549-5ed260a1cb16"
   },
   "execution_count": 12,
   "outputs": [
    {
     "name": "stdout",
     "output_type": "stream",
     "text": [
      "   airline_id                                          name icao  \\\n",
      "2           2                                   135 Airways  GNL   \n",
      "3           3                                 1Time Airline  RNX   \n",
      "4           4  2 Sqn No 1 Elementary Flying Training School  WYT   \n",
      "5           5                               213 Flight Unit  TFU   \n",
      "6           6                 223 Flight Unit State Airline  CHD   \n",
      "\n",
      "          country active  \n",
      "2   United States      N  \n",
      "3    South Africa      Y  \n",
      "4  United Kingdom      N  \n",
      "5          Russia      N  \n",
      "6          Russia      N  \n"
     ]
    }
   ]
  },
  {
   "cell_type": "markdown",
   "source": [
    "## airports.dat"
   ],
   "metadata": {
    "id": "IcGE16VRAFCy"
   }
  },
  {
   "cell_type": "code",
   "source": [
    "airports = pd.read_csv('airports.dat', delimiter=',', names=[\"Airport ID\", \"Name\", \"City\", \"Country\", \"IATA\", \"ICAO\", \"Latitude\", \"Longitude\", \"Altitude(feet)\", \"TimeZone\", \"DST\", \"Tz\", \"Type\", \"source\"])\n",
    "print(airports.head())\n",
    "print(airports.isna().sum())"
   ],
   "metadata": {
    "colab": {
     "base_uri": "https://localhost:8080/"
    },
    "id": "YkJVliCoAIWh",
    "outputId": "3ce43ee1-bdc2-4333-ce5f-96d090715221"
   },
   "execution_count": 13,
   "outputs": [
    {
     "name": "stdout",
     "output_type": "stream",
     "text": [
      "   Airport ID                                         Name          City  \\\n",
      "0           1                               Goroka Airport        Goroka   \n",
      "1           2                               Madang Airport        Madang   \n",
      "2           3                 Mount Hagen Kagamuga Airport   Mount Hagen   \n",
      "3           4                               Nadzab Airport        Nadzab   \n",
      "4           5  Port Moresby Jacksons International Airport  Port Moresby   \n",
      "\n",
      "            Country IATA  ICAO  Latitude   Longitude  Altitude(feet) TimeZone  \\\n",
      "0  Papua New Guinea  GKA  AYGA -6.081690  145.391998            5282       10   \n",
      "1  Papua New Guinea  MAG  AYMD -5.207080  145.789001              20       10   \n",
      "2  Papua New Guinea  HGU  AYMH -5.826790  144.296005            5388       10   \n",
      "3  Papua New Guinea  LAE  AYNZ -6.569803  146.725977             239       10   \n",
      "4  Papua New Guinea  POM  AYPY -9.443380  147.220001             146       10   \n",
      "\n",
      "  DST                    Tz     Type       source  \n",
      "0   U  Pacific/Port_Moresby  airport  OurAirports  \n",
      "1   U  Pacific/Port_Moresby  airport  OurAirports  \n",
      "2   U  Pacific/Port_Moresby  airport  OurAirports  \n",
      "3   U  Pacific/Port_Moresby  airport  OurAirports  \n",
      "4   U  Pacific/Port_Moresby  airport  OurAirports  \n",
      "Airport ID         0\n",
      "Name               0\n",
      "City              49\n",
      "Country            0\n",
      "IATA               0\n",
      "ICAO               0\n",
      "Latitude           0\n",
      "Longitude          0\n",
      "Altitude(feet)     0\n",
      "TimeZone           0\n",
      "DST                0\n",
      "Tz                 0\n",
      "Type               0\n",
      "source             0\n",
      "dtype: int64\n"
     ]
    }
   ]
  },
  {
   "cell_type": "code",
   "source": [
    "\n"
   ],
   "metadata": {
    "id": "soEK6L-iAL6-"
   },
   "execution_count": 13,
   "outputs": []
  },
  {
   "cell_type": "code",
   "source": [
    "print(airports.head())"
   ],
   "metadata": {
    "colab": {
     "base_uri": "https://localhost:8080/"
    },
    "id": "aqNH4w4BANT9",
    "outputId": "799a7d61-9cb3-494f-f6d4-c5ddab86d36d"
   },
   "execution_count": 14,
   "outputs": [
    {
     "name": "stdout",
     "output_type": "stream",
     "text": [
      "   Airport ID                                         Name          City  \\\n",
      "0           1                               Goroka Airport        Goroka   \n",
      "1           2                               Madang Airport        Madang   \n",
      "2           3                 Mount Hagen Kagamuga Airport   Mount Hagen   \n",
      "3           4                               Nadzab Airport        Nadzab   \n",
      "4           5  Port Moresby Jacksons International Airport  Port Moresby   \n",
      "\n",
      "            Country IATA  ICAO  Latitude   Longitude  Altitude(feet) TimeZone  \\\n",
      "0  Papua New Guinea  GKA  AYGA -6.081690  145.391998            5282       10   \n",
      "1  Papua New Guinea  MAG  AYMD -5.207080  145.789001              20       10   \n",
      "2  Papua New Guinea  HGU  AYMH -5.826790  144.296005            5388       10   \n",
      "3  Papua New Guinea  LAE  AYNZ -6.569803  146.725977             239       10   \n",
      "4  Papua New Guinea  POM  AYPY -9.443380  147.220001             146       10   \n",
      "\n",
      "  DST                    Tz     Type       source  \n",
      "0   U  Pacific/Port_Moresby  airport  OurAirports  \n",
      "1   U  Pacific/Port_Moresby  airport  OurAirports  \n",
      "2   U  Pacific/Port_Moresby  airport  OurAirports  \n",
      "3   U  Pacific/Port_Moresby  airport  OurAirports  \n",
      "4   U  Pacific/Port_Moresby  airport  OurAirports  \n"
     ]
    }
   ]
  },
  {
   "cell_type": "markdown",
   "source": [
    "## routes.dat"
   ],
   "metadata": {
    "id": "0rK4nZcfAOUz"
   }
  },
  {
   "cell_type": "code",
   "source": [
    "routes = pd.read_csv('routes.dat', delimiter=',', names=[\"Airline\", \"Airline ID\", \"Origin\", \"SourceID\", \"Destination\", \"destinationID\", \"codeshare\", \"stops\", \"equipment\"])\n",
    "print(routes.head())\n",
    "print(routes.isna().sum())"
   ],
   "metadata": {
    "colab": {
     "base_uri": "https://localhost:8080/"
    },
    "id": "tHxfPD9HAQpP",
    "outputId": "684b84ba-ca99-447e-a231-4676bebd6cbe"
   },
   "execution_count": 15,
   "outputs": [
    {
     "name": "stdout",
     "output_type": "stream",
     "text": [
      "  Airline Airline ID Origin SourceID Destination destinationID codeshare  \\\n",
      "0      2B        410    AER     2965         KZN          2990       NaN   \n",
      "1      2B        410    ASF     2966         KZN          2990       NaN   \n",
      "2      2B        410    ASF     2966         MRV          2962       NaN   \n",
      "3      2B        410    CEK     2968         KZN          2990       NaN   \n",
      "4      2B        410    CEK     2968         OVB          4078       NaN   \n",
      "\n",
      "   stops equipment  \n",
      "0      0       CR2  \n",
      "1      0       CR2  \n",
      "2      0       CR2  \n",
      "3      0       CR2  \n",
      "4      0       CR2  \n",
      "Airline              0\n",
      "Airline ID           0\n",
      "Origin               0\n",
      "SourceID             0\n",
      "Destination          0\n",
      "destinationID        0\n",
      "codeshare        53066\n",
      "stops                0\n",
      "equipment           18\n",
      "dtype: int64\n"
     ]
    }
   ]
  },
  {
   "cell_type": "code",
   "source": [
    "# Drop unwanted columns\n",
    "routes = routes.drop('codeshare', axis=1)\n",
    "\n",
    "# Remove rows with missing data in Equipment column\n",
    "routes.dropna(subset=['equipment'], inplace=True)"
   ],
   "metadata": {
    "id": "DGpd86sjASJi"
   },
   "execution_count": 16,
   "outputs": []
  },
  {
   "cell_type": "code",
   "source": [
    "print(routes.head())"
   ],
   "metadata": {
    "colab": {
     "base_uri": "https://localhost:8080/"
    },
    "id": "aqAjWApPAU1Z",
    "outputId": "806f4417-463e-4a2e-93d3-bcb6e243e61f"
   },
   "execution_count": 17,
   "outputs": [
    {
     "name": "stdout",
     "output_type": "stream",
     "text": [
      "  Airline Airline ID Origin SourceID Destination destinationID  stops  \\\n",
      "0      2B        410    AER     2965         KZN          2990      0   \n",
      "1      2B        410    ASF     2966         KZN          2990      0   \n",
      "2      2B        410    ASF     2966         MRV          2962      0   \n",
      "3      2B        410    CEK     2968         KZN          2990      0   \n",
      "4      2B        410    CEK     2968         OVB          4078      0   \n",
      "\n",
      "  equipment  \n",
      "0       CR2  \n",
      "1       CR2  \n",
      "2       CR2  \n",
      "3       CR2  \n",
      "4       CR2  \n"
     ]
    }
   ]
  },
  {
   "cell_type": "markdown",
   "source": [
    "# Visualization step"
   ],
   "metadata": {
    "id": "f-s7yhLMAjE2"
   }
  },
  {
   "cell_type": "code",
   "execution_count": 18,
   "metadata": {
    "colab": {
     "base_uri": "https://localhost:8080/",
     "height": 1000
    },
    "id": "bpY6A1z2-K80",
    "outputId": "cae87dbf-4308-4ce1-cd02-11e0864c925d"
   },
   "outputs": [
    {
     "ename": "AttributeError",
     "evalue": "'list' object has no attribute 'get'",
     "output_type": "error",
     "traceback": [
      "\u001B[0;31m---------------------------------------------------------------------------\u001B[0m",
      "\u001B[0;31mAttributeError\u001B[0m                            Traceback (most recent call last)",
      "File \u001B[0;32m~/opt/anaconda3/lib/python3.9/site-packages/altair/vegalite/v4/api.py:373\u001B[0m, in \u001B[0;36mTopLevelMixin.to_dict\u001B[0;34m(self, *args, **kwargs)\u001B[0m\n\u001B[1;32m    370\u001B[0m kwargs[\u001B[38;5;124m\"\u001B[39m\u001B[38;5;124mcontext\u001B[39m\u001B[38;5;124m\"\u001B[39m] \u001B[38;5;241m=\u001B[39m context\n\u001B[1;32m    372\u001B[0m \u001B[38;5;28;01mtry\u001B[39;00m:\n\u001B[0;32m--> 373\u001B[0m     dct \u001B[38;5;241m=\u001B[39m \u001B[38;5;28;43msuper\u001B[39;49m\u001B[43m(\u001B[49m\u001B[43mTopLevelMixin\u001B[49m\u001B[43m,\u001B[49m\u001B[43m \u001B[49m\u001B[43mcopy\u001B[49m\u001B[43m)\u001B[49m\u001B[38;5;241;43m.\u001B[39;49m\u001B[43mto_dict\u001B[49m\u001B[43m(\u001B[49m\u001B[38;5;241;43m*\u001B[39;49m\u001B[43margs\u001B[49m\u001B[43m,\u001B[49m\u001B[43m \u001B[49m\u001B[38;5;241;43m*\u001B[39;49m\u001B[38;5;241;43m*\u001B[39;49m\u001B[43mkwargs\u001B[49m\u001B[43m)\u001B[49m\n\u001B[1;32m    374\u001B[0m \u001B[38;5;28;01mexcept\u001B[39;00m jsonschema\u001B[38;5;241m.\u001B[39mValidationError:\n\u001B[1;32m    375\u001B[0m     dct \u001B[38;5;241m=\u001B[39m \u001B[38;5;28;01mNone\u001B[39;00m\n",
      "File \u001B[0;32m~/opt/anaconda3/lib/python3.9/site-packages/altair/utils/schemapi.py:337\u001B[0m, in \u001B[0;36mSchemaBase.to_dict\u001B[0;34m(self, validate, ignore, context)\u001B[0m\n\u001B[1;32m    335\u001B[0m \u001B[38;5;28;01mif\u001B[39;00m validate:\n\u001B[1;32m    336\u001B[0m     \u001B[38;5;28;01mtry\u001B[39;00m:\n\u001B[0;32m--> 337\u001B[0m         \u001B[38;5;28;43mself\u001B[39;49m\u001B[38;5;241;43m.\u001B[39;49m\u001B[43mvalidate\u001B[49m\u001B[43m(\u001B[49m\u001B[43mresult\u001B[49m\u001B[43m)\u001B[49m\n\u001B[1;32m    338\u001B[0m     \u001B[38;5;28;01mexcept\u001B[39;00m jsonschema\u001B[38;5;241m.\u001B[39mValidationError \u001B[38;5;28;01mas\u001B[39;00m err:\n\u001B[1;32m    339\u001B[0m         \u001B[38;5;28;01mraise\u001B[39;00m SchemaValidationError(\u001B[38;5;28mself\u001B[39m, err)\n",
      "File \u001B[0;32m~/opt/anaconda3/lib/python3.9/site-packages/altair/utils/schemapi.py:442\u001B[0m, in \u001B[0;36mSchemaBase.validate\u001B[0;34m(cls, instance, schema)\u001B[0m\n\u001B[1;32m    440\u001B[0m     schema \u001B[38;5;241m=\u001B[39m \u001B[38;5;28mcls\u001B[39m\u001B[38;5;241m.\u001B[39m_schema\n\u001B[1;32m    441\u001B[0m resolver \u001B[38;5;241m=\u001B[39m jsonschema\u001B[38;5;241m.\u001B[39mRefResolver\u001B[38;5;241m.\u001B[39mfrom_schema(\u001B[38;5;28mcls\u001B[39m\u001B[38;5;241m.\u001B[39m_rootschema \u001B[38;5;129;01mor\u001B[39;00m \u001B[38;5;28mcls\u001B[39m\u001B[38;5;241m.\u001B[39m_schema)\n\u001B[0;32m--> 442\u001B[0m \u001B[38;5;28;01mreturn\u001B[39;00m \u001B[43mjsonschema\u001B[49m\u001B[38;5;241;43m.\u001B[39;49m\u001B[43mvalidate\u001B[49m\u001B[43m(\u001B[49m\u001B[43minstance\u001B[49m\u001B[43m,\u001B[49m\u001B[43m \u001B[49m\u001B[43mschema\u001B[49m\u001B[43m,\u001B[49m\u001B[43m \u001B[49m\u001B[43mresolver\u001B[49m\u001B[38;5;241;43m=\u001B[39;49m\u001B[43mresolver\u001B[49m\u001B[43m)\u001B[49m\n",
      "File \u001B[0;32m~/opt/anaconda3/lib/python3.9/site-packages/jsonschema/validators.py:1119\u001B[0m, in \u001B[0;36mvalidate\u001B[0;34m(instance, schema, cls, *args, **kwargs)\u001B[0m\n\u001B[1;32m   1117\u001B[0m \u001B[38;5;28mcls\u001B[39m\u001B[38;5;241m.\u001B[39mcheck_schema(schema)\n\u001B[1;32m   1118\u001B[0m validator \u001B[38;5;241m=\u001B[39m \u001B[38;5;28mcls\u001B[39m(schema, \u001B[38;5;241m*\u001B[39margs, \u001B[38;5;241m*\u001B[39m\u001B[38;5;241m*\u001B[39mkwargs)\n\u001B[0;32m-> 1119\u001B[0m error \u001B[38;5;241m=\u001B[39m \u001B[43mexceptions\u001B[49m\u001B[38;5;241;43m.\u001B[39;49m\u001B[43mbest_match\u001B[49m\u001B[43m(\u001B[49m\u001B[43mvalidator\u001B[49m\u001B[38;5;241;43m.\u001B[39;49m\u001B[43miter_errors\u001B[49m\u001B[43m(\u001B[49m\u001B[43minstance\u001B[49m\u001B[43m)\u001B[49m\u001B[43m)\u001B[49m\n\u001B[1;32m   1120\u001B[0m \u001B[38;5;28;01mif\u001B[39;00m error \u001B[38;5;129;01mis\u001B[39;00m \u001B[38;5;129;01mnot\u001B[39;00m \u001B[38;5;28;01mNone\u001B[39;00m:\n\u001B[1;32m   1121\u001B[0m     \u001B[38;5;28;01mraise\u001B[39;00m error\n",
      "File \u001B[0;32m~/opt/anaconda3/lib/python3.9/site-packages/jsonschema/exceptions.py:384\u001B[0m, in \u001B[0;36mbest_match\u001B[0;34m(errors, key)\u001B[0m\n\u001B[1;32m    346\u001B[0m \u001B[38;5;124;03m\"\"\"\u001B[39;00m\n\u001B[1;32m    347\u001B[0m \u001B[38;5;124;03mTry to find an error that appears to be the best match among given errors.\u001B[39;00m\n\u001B[1;32m    348\u001B[0m \n\u001B[0;32m   (...)\u001B[0m\n\u001B[1;32m    381\u001B[0m \u001B[38;5;124;03m    set of inputs from version to version if better heuristics are added.\u001B[39;00m\n\u001B[1;32m    382\u001B[0m \u001B[38;5;124;03m\"\"\"\u001B[39;00m\n\u001B[1;32m    383\u001B[0m errors \u001B[38;5;241m=\u001B[39m \u001B[38;5;28miter\u001B[39m(errors)\n\u001B[0;32m--> 384\u001B[0m best \u001B[38;5;241m=\u001B[39m \u001B[38;5;28;43mnext\u001B[39;49m\u001B[43m(\u001B[49m\u001B[43merrors\u001B[49m\u001B[43m,\u001B[49m\u001B[43m \u001B[49m\u001B[38;5;28;43;01mNone\u001B[39;49;00m\u001B[43m)\u001B[49m\n\u001B[1;32m    385\u001B[0m \u001B[38;5;28;01mif\u001B[39;00m best \u001B[38;5;129;01mis\u001B[39;00m \u001B[38;5;28;01mNone\u001B[39;00m:\n\u001B[1;32m    386\u001B[0m     \u001B[38;5;28;01mreturn\u001B[39;00m\n",
      "File \u001B[0;32m~/opt/anaconda3/lib/python3.9/site-packages/jsonschema/validators.py:288\u001B[0m, in \u001B[0;36mcreate.<locals>.Validator.iter_errors\u001B[0;34m(self, instance, _schema)\u001B[0m\n\u001B[1;32m    285\u001B[0m     \u001B[38;5;28;01mcontinue\u001B[39;00m\n\u001B[1;32m    287\u001B[0m errors \u001B[38;5;241m=\u001B[39m validator(\u001B[38;5;28mself\u001B[39m, v, instance, _schema) \u001B[38;5;129;01mor\u001B[39;00m ()\n\u001B[0;32m--> 288\u001B[0m \u001B[38;5;28;01mfor\u001B[39;00m error \u001B[38;5;129;01min\u001B[39;00m errors:\n\u001B[1;32m    289\u001B[0m     \u001B[38;5;66;03m# set details if not already set by the called fn\u001B[39;00m\n\u001B[1;32m    290\u001B[0m     error\u001B[38;5;241m.\u001B[39m_set(\n\u001B[1;32m    291\u001B[0m         validator\u001B[38;5;241m=\u001B[39mk,\n\u001B[1;32m    292\u001B[0m         validator_value\u001B[38;5;241m=\u001B[39mv,\n\u001B[0;32m   (...)\u001B[0m\n\u001B[1;32m    295\u001B[0m         type_checker\u001B[38;5;241m=\u001B[39m\u001B[38;5;28mself\u001B[39m\u001B[38;5;241m.\u001B[39mTYPE_CHECKER,\n\u001B[1;32m    296\u001B[0m     )\n\u001B[1;32m    297\u001B[0m     \u001B[38;5;28;01mif\u001B[39;00m k \u001B[38;5;129;01mnot\u001B[39;00m \u001B[38;5;129;01min\u001B[39;00m {\u001B[38;5;124m\"\u001B[39m\u001B[38;5;124mif\u001B[39m\u001B[38;5;124m\"\u001B[39m, \u001B[38;5;124m\"\u001B[39m\u001B[38;5;124m$ref\u001B[39m\u001B[38;5;124m\"\u001B[39m}:\n",
      "File \u001B[0;32m~/opt/anaconda3/lib/python3.9/site-packages/jsonschema/_validators.py:298\u001B[0m, in \u001B[0;36mref\u001B[0;34m(validator, ref, instance, schema)\u001B[0m\n\u001B[1;32m    295\u001B[0m validator\u001B[38;5;241m.\u001B[39mresolver\u001B[38;5;241m.\u001B[39mpush_scope(scope)\n\u001B[1;32m    297\u001B[0m \u001B[38;5;28;01mtry\u001B[39;00m:\n\u001B[0;32m--> 298\u001B[0m     \u001B[38;5;28;01myield from\u001B[39;00m validator\u001B[38;5;241m.\u001B[39mdescend(instance, resolved)\n\u001B[1;32m    299\u001B[0m \u001B[38;5;28;01mfinally\u001B[39;00m:\n\u001B[1;32m    300\u001B[0m     validator\u001B[38;5;241m.\u001B[39mresolver\u001B[38;5;241m.\u001B[39mpop_scope()\n",
      "File \u001B[0;32m~/opt/anaconda3/lib/python3.9/site-packages/jsonschema/validators.py:305\u001B[0m, in \u001B[0;36mcreate.<locals>.Validator.descend\u001B[0;34m(self, instance, schema, path, schema_path)\u001B[0m\n\u001B[1;32m    304\u001B[0m \u001B[38;5;28;01mdef\u001B[39;00m \u001B[38;5;21mdescend\u001B[39m(\u001B[38;5;28mself\u001B[39m, instance, schema, path\u001B[38;5;241m=\u001B[39m\u001B[38;5;28;01mNone\u001B[39;00m, schema_path\u001B[38;5;241m=\u001B[39m\u001B[38;5;28;01mNone\u001B[39;00m):\n\u001B[0;32m--> 305\u001B[0m     \u001B[38;5;28;01mfor\u001B[39;00m error \u001B[38;5;129;01min\u001B[39;00m \u001B[38;5;28mself\u001B[39m\u001B[38;5;241m.\u001B[39mevolve(schema\u001B[38;5;241m=\u001B[39mschema)\u001B[38;5;241m.\u001B[39miter_errors(instance):\n\u001B[1;32m    306\u001B[0m         \u001B[38;5;28;01mif\u001B[39;00m path \u001B[38;5;129;01mis\u001B[39;00m \u001B[38;5;129;01mnot\u001B[39;00m \u001B[38;5;28;01mNone\u001B[39;00m:\n\u001B[1;32m    307\u001B[0m             error\u001B[38;5;241m.\u001B[39mpath\u001B[38;5;241m.\u001B[39mappendleft(path)\n",
      "File \u001B[0;32m~/opt/anaconda3/lib/python3.9/site-packages/jsonschema/validators.py:288\u001B[0m, in \u001B[0;36mcreate.<locals>.Validator.iter_errors\u001B[0;34m(self, instance, _schema)\u001B[0m\n\u001B[1;32m    285\u001B[0m     \u001B[38;5;28;01mcontinue\u001B[39;00m\n\u001B[1;32m    287\u001B[0m errors \u001B[38;5;241m=\u001B[39m validator(\u001B[38;5;28mself\u001B[39m, v, instance, _schema) \u001B[38;5;129;01mor\u001B[39;00m ()\n\u001B[0;32m--> 288\u001B[0m \u001B[38;5;28;01mfor\u001B[39;00m error \u001B[38;5;129;01min\u001B[39;00m errors:\n\u001B[1;32m    289\u001B[0m     \u001B[38;5;66;03m# set details if not already set by the called fn\u001B[39;00m\n\u001B[1;32m    290\u001B[0m     error\u001B[38;5;241m.\u001B[39m_set(\n\u001B[1;32m    291\u001B[0m         validator\u001B[38;5;241m=\u001B[39mk,\n\u001B[1;32m    292\u001B[0m         validator_value\u001B[38;5;241m=\u001B[39mv,\n\u001B[0;32m   (...)\u001B[0m\n\u001B[1;32m    295\u001B[0m         type_checker\u001B[38;5;241m=\u001B[39m\u001B[38;5;28mself\u001B[39m\u001B[38;5;241m.\u001B[39mTYPE_CHECKER,\n\u001B[1;32m    296\u001B[0m     )\n\u001B[1;32m    297\u001B[0m     \u001B[38;5;28;01mif\u001B[39;00m k \u001B[38;5;129;01mnot\u001B[39;00m \u001B[38;5;129;01min\u001B[39;00m {\u001B[38;5;124m\"\u001B[39m\u001B[38;5;124mif\u001B[39m\u001B[38;5;124m\"\u001B[39m, \u001B[38;5;124m\"\u001B[39m\u001B[38;5;124m$ref\u001B[39m\u001B[38;5;124m\"\u001B[39m}:\n",
      "File \u001B[0;32m~/opt/anaconda3/lib/python3.9/site-packages/jsonschema/_validators.py:332\u001B[0m, in \u001B[0;36mproperties\u001B[0;34m(validator, properties, instance, schema)\u001B[0m\n\u001B[1;32m    330\u001B[0m \u001B[38;5;28;01mfor\u001B[39;00m \u001B[38;5;28mproperty\u001B[39m, subschema \u001B[38;5;129;01min\u001B[39;00m properties\u001B[38;5;241m.\u001B[39mitems():\n\u001B[1;32m    331\u001B[0m     \u001B[38;5;28;01mif\u001B[39;00m \u001B[38;5;28mproperty\u001B[39m \u001B[38;5;129;01min\u001B[39;00m instance:\n\u001B[0;32m--> 332\u001B[0m         \u001B[38;5;28;01myield from\u001B[39;00m validator\u001B[38;5;241m.\u001B[39mdescend(\n\u001B[1;32m    333\u001B[0m             instance[\u001B[38;5;28mproperty\u001B[39m],\n\u001B[1;32m    334\u001B[0m             subschema,\n\u001B[1;32m    335\u001B[0m             path\u001B[38;5;241m=\u001B[39m\u001B[38;5;28mproperty\u001B[39m,\n\u001B[1;32m    336\u001B[0m             schema_path\u001B[38;5;241m=\u001B[39m\u001B[38;5;28mproperty\u001B[39m,\n\u001B[1;32m    337\u001B[0m         )\n",
      "File \u001B[0;32m~/opt/anaconda3/lib/python3.9/site-packages/jsonschema/validators.py:305\u001B[0m, in \u001B[0;36mcreate.<locals>.Validator.descend\u001B[0;34m(self, instance, schema, path, schema_path)\u001B[0m\n\u001B[1;32m    304\u001B[0m \u001B[38;5;28;01mdef\u001B[39;00m \u001B[38;5;21mdescend\u001B[39m(\u001B[38;5;28mself\u001B[39m, instance, schema, path\u001B[38;5;241m=\u001B[39m\u001B[38;5;28;01mNone\u001B[39;00m, schema_path\u001B[38;5;241m=\u001B[39m\u001B[38;5;28;01mNone\u001B[39;00m):\n\u001B[0;32m--> 305\u001B[0m     \u001B[38;5;28;01mfor\u001B[39;00m error \u001B[38;5;129;01min\u001B[39;00m \u001B[38;5;28mself\u001B[39m\u001B[38;5;241m.\u001B[39mevolve(schema\u001B[38;5;241m=\u001B[39mschema)\u001B[38;5;241m.\u001B[39miter_errors(instance):\n\u001B[1;32m    306\u001B[0m         \u001B[38;5;28;01mif\u001B[39;00m path \u001B[38;5;129;01mis\u001B[39;00m \u001B[38;5;129;01mnot\u001B[39;00m \u001B[38;5;28;01mNone\u001B[39;00m:\n\u001B[1;32m    307\u001B[0m             error\u001B[38;5;241m.\u001B[39mpath\u001B[38;5;241m.\u001B[39mappendleft(path)\n",
      "    \u001B[0;31m[... skipping similar frames: create.<locals>.Validator.iter_errors at line 288 (1 times)]\u001B[0m\n",
      "File \u001B[0;32m~/opt/anaconda3/lib/python3.9/site-packages/jsonschema/_validators.py:76\u001B[0m, in \u001B[0;36mitems\u001B[0;34m(validator, items, instance, schema)\u001B[0m\n\u001B[1;32m     74\u001B[0m \u001B[38;5;28;01melse\u001B[39;00m:\n\u001B[1;32m     75\u001B[0m     \u001B[38;5;28;01mfor\u001B[39;00m index \u001B[38;5;129;01min\u001B[39;00m \u001B[38;5;28mrange\u001B[39m(prefix, total):\n\u001B[0;32m---> 76\u001B[0m         \u001B[38;5;28;01myield from\u001B[39;00m validator\u001B[38;5;241m.\u001B[39mdescend(\n\u001B[1;32m     77\u001B[0m             instance\u001B[38;5;241m=\u001B[39minstance[index],\n\u001B[1;32m     78\u001B[0m             schema\u001B[38;5;241m=\u001B[39mitems,\n\u001B[1;32m     79\u001B[0m             path\u001B[38;5;241m=\u001B[39mindex,\n\u001B[1;32m     80\u001B[0m         )\n",
      "    \u001B[0;31m[... skipping similar frames: create.<locals>.Validator.descend at line 305 (1 times), create.<locals>.Validator.iter_errors at line 288 (1 times)]\u001B[0m\n",
      "File \u001B[0;32m~/opt/anaconda3/lib/python3.9/site-packages/jsonschema/_validators.py:298\u001B[0m, in \u001B[0;36mref\u001B[0;34m(validator, ref, instance, schema)\u001B[0m\n\u001B[1;32m    295\u001B[0m validator\u001B[38;5;241m.\u001B[39mresolver\u001B[38;5;241m.\u001B[39mpush_scope(scope)\n\u001B[1;32m    297\u001B[0m \u001B[38;5;28;01mtry\u001B[39;00m:\n\u001B[0;32m--> 298\u001B[0m     \u001B[38;5;28;01myield from\u001B[39;00m validator\u001B[38;5;241m.\u001B[39mdescend(instance, resolved)\n\u001B[1;32m    299\u001B[0m \u001B[38;5;28;01mfinally\u001B[39;00m:\n\u001B[1;32m    300\u001B[0m     validator\u001B[38;5;241m.\u001B[39mresolver\u001B[38;5;241m.\u001B[39mpop_scope()\n",
      "File \u001B[0;32m~/opt/anaconda3/lib/python3.9/site-packages/jsonschema/validators.py:305\u001B[0m, in \u001B[0;36mcreate.<locals>.Validator.descend\u001B[0;34m(self, instance, schema, path, schema_path)\u001B[0m\n\u001B[1;32m    304\u001B[0m \u001B[38;5;28;01mdef\u001B[39;00m \u001B[38;5;21mdescend\u001B[39m(\u001B[38;5;28mself\u001B[39m, instance, schema, path\u001B[38;5;241m=\u001B[39m\u001B[38;5;28;01mNone\u001B[39;00m, schema_path\u001B[38;5;241m=\u001B[39m\u001B[38;5;28;01mNone\u001B[39;00m):\n\u001B[0;32m--> 305\u001B[0m     \u001B[38;5;28;01mfor\u001B[39;00m error \u001B[38;5;129;01min\u001B[39;00m \u001B[38;5;28mself\u001B[39m\u001B[38;5;241m.\u001B[39mevolve(schema\u001B[38;5;241m=\u001B[39mschema)\u001B[38;5;241m.\u001B[39miter_errors(instance):\n\u001B[1;32m    306\u001B[0m         \u001B[38;5;28;01mif\u001B[39;00m path \u001B[38;5;129;01mis\u001B[39;00m \u001B[38;5;129;01mnot\u001B[39;00m \u001B[38;5;28;01mNone\u001B[39;00m:\n\u001B[1;32m    307\u001B[0m             error\u001B[38;5;241m.\u001B[39mpath\u001B[38;5;241m.\u001B[39mappendleft(path)\n",
      "File \u001B[0;32m~/opt/anaconda3/lib/python3.9/site-packages/jsonschema/validators.py:288\u001B[0m, in \u001B[0;36mcreate.<locals>.Validator.iter_errors\u001B[0;34m(self, instance, _schema)\u001B[0m\n\u001B[1;32m    285\u001B[0m     \u001B[38;5;28;01mcontinue\u001B[39;00m\n\u001B[1;32m    287\u001B[0m errors \u001B[38;5;241m=\u001B[39m validator(\u001B[38;5;28mself\u001B[39m, v, instance, _schema) \u001B[38;5;129;01mor\u001B[39;00m ()\n\u001B[0;32m--> 288\u001B[0m \u001B[38;5;28;01mfor\u001B[39;00m error \u001B[38;5;129;01min\u001B[39;00m errors:\n\u001B[1;32m    289\u001B[0m     \u001B[38;5;66;03m# set details if not already set by the called fn\u001B[39;00m\n\u001B[1;32m    290\u001B[0m     error\u001B[38;5;241m.\u001B[39m_set(\n\u001B[1;32m    291\u001B[0m         validator\u001B[38;5;241m=\u001B[39mk,\n\u001B[1;32m    292\u001B[0m         validator_value\u001B[38;5;241m=\u001B[39mv,\n\u001B[0;32m   (...)\u001B[0m\n\u001B[1;32m    295\u001B[0m         type_checker\u001B[38;5;241m=\u001B[39m\u001B[38;5;28mself\u001B[39m\u001B[38;5;241m.\u001B[39mTYPE_CHECKER,\n\u001B[1;32m    296\u001B[0m     )\n\u001B[1;32m    297\u001B[0m     \u001B[38;5;28;01mif\u001B[39;00m k \u001B[38;5;129;01mnot\u001B[39;00m \u001B[38;5;129;01min\u001B[39;00m {\u001B[38;5;124m\"\u001B[39m\u001B[38;5;124mif\u001B[39m\u001B[38;5;124m\"\u001B[39m, \u001B[38;5;124m\"\u001B[39m\u001B[38;5;124m$ref\u001B[39m\u001B[38;5;124m\"\u001B[39m}:\n",
      "File \u001B[0;32m~/opt/anaconda3/lib/python3.9/site-packages/jsonschema/_validators.py:368\u001B[0m, in \u001B[0;36manyOf\u001B[0;34m(validator, anyOf, instance, schema)\u001B[0m\n\u001B[1;32m    366\u001B[0m all_errors \u001B[38;5;241m=\u001B[39m []\n\u001B[1;32m    367\u001B[0m \u001B[38;5;28;01mfor\u001B[39;00m index, subschema \u001B[38;5;129;01min\u001B[39;00m \u001B[38;5;28menumerate\u001B[39m(anyOf):\n\u001B[0;32m--> 368\u001B[0m     errs \u001B[38;5;241m=\u001B[39m \u001B[38;5;28;43mlist\u001B[39;49m\u001B[43m(\u001B[49m\u001B[43mvalidator\u001B[49m\u001B[38;5;241;43m.\u001B[39;49m\u001B[43mdescend\u001B[49m\u001B[43m(\u001B[49m\u001B[43minstance\u001B[49m\u001B[43m,\u001B[49m\u001B[43m \u001B[49m\u001B[43msubschema\u001B[49m\u001B[43m,\u001B[49m\u001B[43m \u001B[49m\u001B[43mschema_path\u001B[49m\u001B[38;5;241;43m=\u001B[39;49m\u001B[43mindex\u001B[49m\u001B[43m)\u001B[49m\u001B[43m)\u001B[49m\n\u001B[1;32m    369\u001B[0m     \u001B[38;5;28;01mif\u001B[39;00m \u001B[38;5;129;01mnot\u001B[39;00m errs:\n\u001B[1;32m    370\u001B[0m         \u001B[38;5;28;01mbreak\u001B[39;00m\n",
      "File \u001B[0;32m~/opt/anaconda3/lib/python3.9/site-packages/jsonschema/validators.py:305\u001B[0m, in \u001B[0;36mcreate.<locals>.Validator.descend\u001B[0;34m(self, instance, schema, path, schema_path)\u001B[0m\n\u001B[1;32m    304\u001B[0m \u001B[38;5;28;01mdef\u001B[39;00m \u001B[38;5;21mdescend\u001B[39m(\u001B[38;5;28mself\u001B[39m, instance, schema, path\u001B[38;5;241m=\u001B[39m\u001B[38;5;28;01mNone\u001B[39;00m, schema_path\u001B[38;5;241m=\u001B[39m\u001B[38;5;28;01mNone\u001B[39;00m):\n\u001B[0;32m--> 305\u001B[0m     \u001B[38;5;28;01mfor\u001B[39;00m error \u001B[38;5;129;01min\u001B[39;00m \u001B[38;5;28mself\u001B[39m\u001B[38;5;241m.\u001B[39mevolve(schema\u001B[38;5;241m=\u001B[39mschema)\u001B[38;5;241m.\u001B[39miter_errors(instance):\n\u001B[1;32m    306\u001B[0m         \u001B[38;5;28;01mif\u001B[39;00m path \u001B[38;5;129;01mis\u001B[39;00m \u001B[38;5;129;01mnot\u001B[39;00m \u001B[38;5;28;01mNone\u001B[39;00m:\n\u001B[1;32m    307\u001B[0m             error\u001B[38;5;241m.\u001B[39mpath\u001B[38;5;241m.\u001B[39mappendleft(path)\n",
      "File \u001B[0;32m~/opt/anaconda3/lib/python3.9/site-packages/jsonschema/validators.py:288\u001B[0m, in \u001B[0;36mcreate.<locals>.Validator.iter_errors\u001B[0;34m(self, instance, _schema)\u001B[0m\n\u001B[1;32m    285\u001B[0m     \u001B[38;5;28;01mcontinue\u001B[39;00m\n\u001B[1;32m    287\u001B[0m errors \u001B[38;5;241m=\u001B[39m validator(\u001B[38;5;28mself\u001B[39m, v, instance, _schema) \u001B[38;5;129;01mor\u001B[39;00m ()\n\u001B[0;32m--> 288\u001B[0m \u001B[38;5;28;01mfor\u001B[39;00m error \u001B[38;5;129;01min\u001B[39;00m errors:\n\u001B[1;32m    289\u001B[0m     \u001B[38;5;66;03m# set details if not already set by the called fn\u001B[39;00m\n\u001B[1;32m    290\u001B[0m     error\u001B[38;5;241m.\u001B[39m_set(\n\u001B[1;32m    291\u001B[0m         validator\u001B[38;5;241m=\u001B[39mk,\n\u001B[1;32m    292\u001B[0m         validator_value\u001B[38;5;241m=\u001B[39mv,\n\u001B[0;32m   (...)\u001B[0m\n\u001B[1;32m    295\u001B[0m         type_checker\u001B[38;5;241m=\u001B[39m\u001B[38;5;28mself\u001B[39m\u001B[38;5;241m.\u001B[39mTYPE_CHECKER,\n\u001B[1;32m    296\u001B[0m     )\n\u001B[1;32m    297\u001B[0m     \u001B[38;5;28;01mif\u001B[39;00m k \u001B[38;5;129;01mnot\u001B[39;00m \u001B[38;5;129;01min\u001B[39;00m {\u001B[38;5;124m\"\u001B[39m\u001B[38;5;124mif\u001B[39m\u001B[38;5;124m\"\u001B[39m, \u001B[38;5;124m\"\u001B[39m\u001B[38;5;124m$ref\u001B[39m\u001B[38;5;124m\"\u001B[39m}:\n",
      "File \u001B[0;32m~/opt/anaconda3/lib/python3.9/site-packages/jsonschema/_validators.py:298\u001B[0m, in \u001B[0;36mref\u001B[0;34m(validator, ref, instance, schema)\u001B[0m\n\u001B[1;32m    295\u001B[0m validator\u001B[38;5;241m.\u001B[39mresolver\u001B[38;5;241m.\u001B[39mpush_scope(scope)\n\u001B[1;32m    297\u001B[0m \u001B[38;5;28;01mtry\u001B[39;00m:\n\u001B[0;32m--> 298\u001B[0m     \u001B[38;5;28;01myield from\u001B[39;00m validator\u001B[38;5;241m.\u001B[39mdescend(instance, resolved)\n\u001B[1;32m    299\u001B[0m \u001B[38;5;28;01mfinally\u001B[39;00m:\n\u001B[1;32m    300\u001B[0m     validator\u001B[38;5;241m.\u001B[39mresolver\u001B[38;5;241m.\u001B[39mpop_scope()\n",
      "File \u001B[0;32m~/opt/anaconda3/lib/python3.9/site-packages/jsonschema/validators.py:305\u001B[0m, in \u001B[0;36mcreate.<locals>.Validator.descend\u001B[0;34m(self, instance, schema, path, schema_path)\u001B[0m\n\u001B[1;32m    304\u001B[0m \u001B[38;5;28;01mdef\u001B[39;00m \u001B[38;5;21mdescend\u001B[39m(\u001B[38;5;28mself\u001B[39m, instance, schema, path\u001B[38;5;241m=\u001B[39m\u001B[38;5;28;01mNone\u001B[39;00m, schema_path\u001B[38;5;241m=\u001B[39m\u001B[38;5;28;01mNone\u001B[39;00m):\n\u001B[0;32m--> 305\u001B[0m     \u001B[38;5;28;01mfor\u001B[39;00m error \u001B[38;5;129;01min\u001B[39;00m \u001B[38;5;28mself\u001B[39m\u001B[38;5;241m.\u001B[39mevolve(schema\u001B[38;5;241m=\u001B[39mschema)\u001B[38;5;241m.\u001B[39miter_errors(instance):\n\u001B[1;32m    306\u001B[0m         \u001B[38;5;28;01mif\u001B[39;00m path \u001B[38;5;129;01mis\u001B[39;00m \u001B[38;5;129;01mnot\u001B[39;00m \u001B[38;5;28;01mNone\u001B[39;00m:\n\u001B[1;32m    307\u001B[0m             error\u001B[38;5;241m.\u001B[39mpath\u001B[38;5;241m.\u001B[39mappendleft(path)\n",
      "File \u001B[0;32m~/opt/anaconda3/lib/python3.9/site-packages/jsonschema/validators.py:288\u001B[0m, in \u001B[0;36mcreate.<locals>.Validator.iter_errors\u001B[0;34m(self, instance, _schema)\u001B[0m\n\u001B[1;32m    285\u001B[0m     \u001B[38;5;28;01mcontinue\u001B[39;00m\n\u001B[1;32m    287\u001B[0m errors \u001B[38;5;241m=\u001B[39m validator(\u001B[38;5;28mself\u001B[39m, v, instance, _schema) \u001B[38;5;129;01mor\u001B[39;00m ()\n\u001B[0;32m--> 288\u001B[0m \u001B[38;5;28;01mfor\u001B[39;00m error \u001B[38;5;129;01min\u001B[39;00m errors:\n\u001B[1;32m    289\u001B[0m     \u001B[38;5;66;03m# set details if not already set by the called fn\u001B[39;00m\n\u001B[1;32m    290\u001B[0m     error\u001B[38;5;241m.\u001B[39m_set(\n\u001B[1;32m    291\u001B[0m         validator\u001B[38;5;241m=\u001B[39mk,\n\u001B[1;32m    292\u001B[0m         validator_value\u001B[38;5;241m=\u001B[39mv,\n\u001B[0;32m   (...)\u001B[0m\n\u001B[1;32m    295\u001B[0m         type_checker\u001B[38;5;241m=\u001B[39m\u001B[38;5;28mself\u001B[39m\u001B[38;5;241m.\u001B[39mTYPE_CHECKER,\n\u001B[1;32m    296\u001B[0m     )\n\u001B[1;32m    297\u001B[0m     \u001B[38;5;28;01mif\u001B[39;00m k \u001B[38;5;129;01mnot\u001B[39;00m \u001B[38;5;129;01min\u001B[39;00m {\u001B[38;5;124m\"\u001B[39m\u001B[38;5;124mif\u001B[39m\u001B[38;5;124m\"\u001B[39m, \u001B[38;5;124m\"\u001B[39m\u001B[38;5;124m$ref\u001B[39m\u001B[38;5;124m\"\u001B[39m}:\n",
      "File \u001B[0;32m~/opt/anaconda3/lib/python3.9/site-packages/jsonschema/_validators.py:332\u001B[0m, in \u001B[0;36mproperties\u001B[0;34m(validator, properties, instance, schema)\u001B[0m\n\u001B[1;32m    330\u001B[0m \u001B[38;5;28;01mfor\u001B[39;00m \u001B[38;5;28mproperty\u001B[39m, subschema \u001B[38;5;129;01min\u001B[39;00m properties\u001B[38;5;241m.\u001B[39mitems():\n\u001B[1;32m    331\u001B[0m     \u001B[38;5;28;01mif\u001B[39;00m \u001B[38;5;28mproperty\u001B[39m \u001B[38;5;129;01min\u001B[39;00m instance:\n\u001B[0;32m--> 332\u001B[0m         \u001B[38;5;28;01myield from\u001B[39;00m validator\u001B[38;5;241m.\u001B[39mdescend(\n\u001B[1;32m    333\u001B[0m             instance[\u001B[38;5;28mproperty\u001B[39m],\n\u001B[1;32m    334\u001B[0m             subschema,\n\u001B[1;32m    335\u001B[0m             path\u001B[38;5;241m=\u001B[39m\u001B[38;5;28mproperty\u001B[39m,\n\u001B[1;32m    336\u001B[0m             schema_path\u001B[38;5;241m=\u001B[39m\u001B[38;5;28mproperty\u001B[39m,\n\u001B[1;32m    337\u001B[0m         )\n",
      "    \u001B[0;31m[... skipping similar frames: create.<locals>.Validator.descend at line 305 (1 times), create.<locals>.Validator.iter_errors at line 288 (1 times)]\u001B[0m\n",
      "File \u001B[0;32m~/opt/anaconda3/lib/python3.9/site-packages/jsonschema/_validators.py:76\u001B[0m, in \u001B[0;36mitems\u001B[0;34m(validator, items, instance, schema)\u001B[0m\n\u001B[1;32m     74\u001B[0m \u001B[38;5;28;01melse\u001B[39;00m:\n\u001B[1;32m     75\u001B[0m     \u001B[38;5;28;01mfor\u001B[39;00m index \u001B[38;5;129;01min\u001B[39;00m \u001B[38;5;28mrange\u001B[39m(prefix, total):\n\u001B[0;32m---> 76\u001B[0m         \u001B[38;5;28;01myield from\u001B[39;00m validator\u001B[38;5;241m.\u001B[39mdescend(\n\u001B[1;32m     77\u001B[0m             instance\u001B[38;5;241m=\u001B[39minstance[index],\n\u001B[1;32m     78\u001B[0m             schema\u001B[38;5;241m=\u001B[39mitems,\n\u001B[1;32m     79\u001B[0m             path\u001B[38;5;241m=\u001B[39mindex,\n\u001B[1;32m     80\u001B[0m         )\n",
      "File \u001B[0;32m~/opt/anaconda3/lib/python3.9/site-packages/jsonschema/validators.py:305\u001B[0m, in \u001B[0;36mcreate.<locals>.Validator.descend\u001B[0;34m(self, instance, schema, path, schema_path)\u001B[0m\n\u001B[1;32m    304\u001B[0m \u001B[38;5;28;01mdef\u001B[39;00m \u001B[38;5;21mdescend\u001B[39m(\u001B[38;5;28mself\u001B[39m, instance, schema, path\u001B[38;5;241m=\u001B[39m\u001B[38;5;28;01mNone\u001B[39;00m, schema_path\u001B[38;5;241m=\u001B[39m\u001B[38;5;28;01mNone\u001B[39;00m):\n\u001B[0;32m--> 305\u001B[0m     \u001B[38;5;28;01mfor\u001B[39;00m error \u001B[38;5;129;01min\u001B[39;00m \u001B[38;5;28mself\u001B[39m\u001B[38;5;241m.\u001B[39mevolve(schema\u001B[38;5;241m=\u001B[39mschema)\u001B[38;5;241m.\u001B[39miter_errors(instance):\n\u001B[1;32m    306\u001B[0m         \u001B[38;5;28;01mif\u001B[39;00m path \u001B[38;5;129;01mis\u001B[39;00m \u001B[38;5;129;01mnot\u001B[39;00m \u001B[38;5;28;01mNone\u001B[39;00m:\n\u001B[1;32m    307\u001B[0m             error\u001B[38;5;241m.\u001B[39mpath\u001B[38;5;241m.\u001B[39mappendleft(path)\n",
      "File \u001B[0;32m~/opt/anaconda3/lib/python3.9/site-packages/jsonschema/validators.py:288\u001B[0m, in \u001B[0;36mcreate.<locals>.Validator.iter_errors\u001B[0;34m(self, instance, _schema)\u001B[0m\n\u001B[1;32m    285\u001B[0m     \u001B[38;5;28;01mcontinue\u001B[39;00m\n\u001B[1;32m    287\u001B[0m errors \u001B[38;5;241m=\u001B[39m validator(\u001B[38;5;28mself\u001B[39m, v, instance, _schema) \u001B[38;5;129;01mor\u001B[39;00m ()\n\u001B[0;32m--> 288\u001B[0m \u001B[38;5;28;01mfor\u001B[39;00m error \u001B[38;5;129;01min\u001B[39;00m errors:\n\u001B[1;32m    289\u001B[0m     \u001B[38;5;66;03m# set details if not already set by the called fn\u001B[39;00m\n\u001B[1;32m    290\u001B[0m     error\u001B[38;5;241m.\u001B[39m_set(\n\u001B[1;32m    291\u001B[0m         validator\u001B[38;5;241m=\u001B[39mk,\n\u001B[1;32m    292\u001B[0m         validator_value\u001B[38;5;241m=\u001B[39mv,\n\u001B[0;32m   (...)\u001B[0m\n\u001B[1;32m    295\u001B[0m         type_checker\u001B[38;5;241m=\u001B[39m\u001B[38;5;28mself\u001B[39m\u001B[38;5;241m.\u001B[39mTYPE_CHECKER,\n\u001B[1;32m    296\u001B[0m     )\n\u001B[1;32m    297\u001B[0m     \u001B[38;5;28;01mif\u001B[39;00m k \u001B[38;5;129;01mnot\u001B[39;00m \u001B[38;5;129;01min\u001B[39;00m {\u001B[38;5;124m\"\u001B[39m\u001B[38;5;124mif\u001B[39m\u001B[38;5;124m\"\u001B[39m, \u001B[38;5;124m\"\u001B[39m\u001B[38;5;124m$ref\u001B[39m\u001B[38;5;124m\"\u001B[39m}:\n",
      "File \u001B[0;32m~/opt/anaconda3/lib/python3.9/site-packages/jsonschema/_validators.py:368\u001B[0m, in \u001B[0;36manyOf\u001B[0;34m(validator, anyOf, instance, schema)\u001B[0m\n\u001B[1;32m    366\u001B[0m all_errors \u001B[38;5;241m=\u001B[39m []\n\u001B[1;32m    367\u001B[0m \u001B[38;5;28;01mfor\u001B[39;00m index, subschema \u001B[38;5;129;01min\u001B[39;00m \u001B[38;5;28menumerate\u001B[39m(anyOf):\n\u001B[0;32m--> 368\u001B[0m     errs \u001B[38;5;241m=\u001B[39m \u001B[38;5;28;43mlist\u001B[39;49m\u001B[43m(\u001B[49m\u001B[43mvalidator\u001B[49m\u001B[38;5;241;43m.\u001B[39;49m\u001B[43mdescend\u001B[49m\u001B[43m(\u001B[49m\u001B[43minstance\u001B[49m\u001B[43m,\u001B[49m\u001B[43m \u001B[49m\u001B[43msubschema\u001B[49m\u001B[43m,\u001B[49m\u001B[43m \u001B[49m\u001B[43mschema_path\u001B[49m\u001B[38;5;241;43m=\u001B[39;49m\u001B[43mindex\u001B[49m\u001B[43m)\u001B[49m\u001B[43m)\u001B[49m\n\u001B[1;32m    369\u001B[0m     \u001B[38;5;28;01mif\u001B[39;00m \u001B[38;5;129;01mnot\u001B[39;00m errs:\n\u001B[1;32m    370\u001B[0m         \u001B[38;5;28;01mbreak\u001B[39;00m\n",
      "File \u001B[0;32m~/opt/anaconda3/lib/python3.9/site-packages/jsonschema/validators.py:305\u001B[0m, in \u001B[0;36mcreate.<locals>.Validator.descend\u001B[0;34m(self, instance, schema, path, schema_path)\u001B[0m\n\u001B[1;32m    304\u001B[0m \u001B[38;5;28;01mdef\u001B[39;00m \u001B[38;5;21mdescend\u001B[39m(\u001B[38;5;28mself\u001B[39m, instance, schema, path\u001B[38;5;241m=\u001B[39m\u001B[38;5;28;01mNone\u001B[39;00m, schema_path\u001B[38;5;241m=\u001B[39m\u001B[38;5;28;01mNone\u001B[39;00m):\n\u001B[0;32m--> 305\u001B[0m     \u001B[38;5;28;01mfor\u001B[39;00m error \u001B[38;5;129;01min\u001B[39;00m \u001B[38;5;28mself\u001B[39m\u001B[38;5;241m.\u001B[39mevolve(schema\u001B[38;5;241m=\u001B[39mschema)\u001B[38;5;241m.\u001B[39miter_errors(instance):\n\u001B[1;32m    306\u001B[0m         \u001B[38;5;28;01mif\u001B[39;00m path \u001B[38;5;129;01mis\u001B[39;00m \u001B[38;5;129;01mnot\u001B[39;00m \u001B[38;5;28;01mNone\u001B[39;00m:\n\u001B[1;32m    307\u001B[0m             error\u001B[38;5;241m.\u001B[39mpath\u001B[38;5;241m.\u001B[39mappendleft(path)\n",
      "File \u001B[0;32m~/opt/anaconda3/lib/python3.9/site-packages/jsonschema/validators.py:288\u001B[0m, in \u001B[0;36mcreate.<locals>.Validator.iter_errors\u001B[0;34m(self, instance, _schema)\u001B[0m\n\u001B[1;32m    285\u001B[0m     \u001B[38;5;28;01mcontinue\u001B[39;00m\n\u001B[1;32m    287\u001B[0m errors \u001B[38;5;241m=\u001B[39m validator(\u001B[38;5;28mself\u001B[39m, v, instance, _schema) \u001B[38;5;129;01mor\u001B[39;00m ()\n\u001B[0;32m--> 288\u001B[0m \u001B[38;5;28;01mfor\u001B[39;00m error \u001B[38;5;129;01min\u001B[39;00m errors:\n\u001B[1;32m    289\u001B[0m     \u001B[38;5;66;03m# set details if not already set by the called fn\u001B[39;00m\n\u001B[1;32m    290\u001B[0m     error\u001B[38;5;241m.\u001B[39m_set(\n\u001B[1;32m    291\u001B[0m         validator\u001B[38;5;241m=\u001B[39mk,\n\u001B[1;32m    292\u001B[0m         validator_value\u001B[38;5;241m=\u001B[39mv,\n\u001B[0;32m   (...)\u001B[0m\n\u001B[1;32m    295\u001B[0m         type_checker\u001B[38;5;241m=\u001B[39m\u001B[38;5;28mself\u001B[39m\u001B[38;5;241m.\u001B[39mTYPE_CHECKER,\n\u001B[1;32m    296\u001B[0m     )\n\u001B[1;32m    297\u001B[0m     \u001B[38;5;28;01mif\u001B[39;00m k \u001B[38;5;129;01mnot\u001B[39;00m \u001B[38;5;129;01min\u001B[39;00m {\u001B[38;5;124m\"\u001B[39m\u001B[38;5;124mif\u001B[39m\u001B[38;5;124m\"\u001B[39m, \u001B[38;5;124m\"\u001B[39m\u001B[38;5;124m$ref\u001B[39m\u001B[38;5;124m\"\u001B[39m}:\n",
      "File \u001B[0;32m~/opt/anaconda3/lib/python3.9/site-packages/jsonschema/_validators.py:298\u001B[0m, in \u001B[0;36mref\u001B[0;34m(validator, ref, instance, schema)\u001B[0m\n\u001B[1;32m    295\u001B[0m validator\u001B[38;5;241m.\u001B[39mresolver\u001B[38;5;241m.\u001B[39mpush_scope(scope)\n\u001B[1;32m    297\u001B[0m \u001B[38;5;28;01mtry\u001B[39;00m:\n\u001B[0;32m--> 298\u001B[0m     \u001B[38;5;28;01myield from\u001B[39;00m validator\u001B[38;5;241m.\u001B[39mdescend(instance, resolved)\n\u001B[1;32m    299\u001B[0m \u001B[38;5;28;01mfinally\u001B[39;00m:\n\u001B[1;32m    300\u001B[0m     validator\u001B[38;5;241m.\u001B[39mresolver\u001B[38;5;241m.\u001B[39mpop_scope()\n",
      "File \u001B[0;32m~/opt/anaconda3/lib/python3.9/site-packages/jsonschema/validators.py:305\u001B[0m, in \u001B[0;36mcreate.<locals>.Validator.descend\u001B[0;34m(self, instance, schema, path, schema_path)\u001B[0m\n\u001B[1;32m    304\u001B[0m \u001B[38;5;28;01mdef\u001B[39;00m \u001B[38;5;21mdescend\u001B[39m(\u001B[38;5;28mself\u001B[39m, instance, schema, path\u001B[38;5;241m=\u001B[39m\u001B[38;5;28;01mNone\u001B[39;00m, schema_path\u001B[38;5;241m=\u001B[39m\u001B[38;5;28;01mNone\u001B[39;00m):\n\u001B[0;32m--> 305\u001B[0m     \u001B[38;5;28;01mfor\u001B[39;00m error \u001B[38;5;129;01min\u001B[39;00m \u001B[38;5;28mself\u001B[39m\u001B[38;5;241m.\u001B[39mevolve(schema\u001B[38;5;241m=\u001B[39mschema)\u001B[38;5;241m.\u001B[39miter_errors(instance):\n\u001B[1;32m    306\u001B[0m         \u001B[38;5;28;01mif\u001B[39;00m path \u001B[38;5;129;01mis\u001B[39;00m \u001B[38;5;129;01mnot\u001B[39;00m \u001B[38;5;28;01mNone\u001B[39;00m:\n\u001B[1;32m    307\u001B[0m             error\u001B[38;5;241m.\u001B[39mpath\u001B[38;5;241m.\u001B[39mappendleft(path)\n",
      "File \u001B[0;32m~/opt/anaconda3/lib/python3.9/site-packages/jsonschema/validators.py:288\u001B[0m, in \u001B[0;36mcreate.<locals>.Validator.iter_errors\u001B[0;34m(self, instance, _schema)\u001B[0m\n\u001B[1;32m    285\u001B[0m     \u001B[38;5;28;01mcontinue\u001B[39;00m\n\u001B[1;32m    287\u001B[0m errors \u001B[38;5;241m=\u001B[39m validator(\u001B[38;5;28mself\u001B[39m, v, instance, _schema) \u001B[38;5;129;01mor\u001B[39;00m ()\n\u001B[0;32m--> 288\u001B[0m \u001B[38;5;28;01mfor\u001B[39;00m error \u001B[38;5;129;01min\u001B[39;00m errors:\n\u001B[1;32m    289\u001B[0m     \u001B[38;5;66;03m# set details if not already set by the called fn\u001B[39;00m\n\u001B[1;32m    290\u001B[0m     error\u001B[38;5;241m.\u001B[39m_set(\n\u001B[1;32m    291\u001B[0m         validator\u001B[38;5;241m=\u001B[39mk,\n\u001B[1;32m    292\u001B[0m         validator_value\u001B[38;5;241m=\u001B[39mv,\n\u001B[0;32m   (...)\u001B[0m\n\u001B[1;32m    295\u001B[0m         type_checker\u001B[38;5;241m=\u001B[39m\u001B[38;5;28mself\u001B[39m\u001B[38;5;241m.\u001B[39mTYPE_CHECKER,\n\u001B[1;32m    296\u001B[0m     )\n\u001B[1;32m    297\u001B[0m     \u001B[38;5;28;01mif\u001B[39;00m k \u001B[38;5;129;01mnot\u001B[39;00m \u001B[38;5;129;01min\u001B[39;00m {\u001B[38;5;124m\"\u001B[39m\u001B[38;5;124mif\u001B[39m\u001B[38;5;124m\"\u001B[39m, \u001B[38;5;124m\"\u001B[39m\u001B[38;5;124m$ref\u001B[39m\u001B[38;5;124m\"\u001B[39m}:\n",
      "File \u001B[0;32m~/opt/anaconda3/lib/python3.9/site-packages/jsonschema/_validators.py:332\u001B[0m, in \u001B[0;36mproperties\u001B[0;34m(validator, properties, instance, schema)\u001B[0m\n\u001B[1;32m    330\u001B[0m \u001B[38;5;28;01mfor\u001B[39;00m \u001B[38;5;28mproperty\u001B[39m, subschema \u001B[38;5;129;01min\u001B[39;00m properties\u001B[38;5;241m.\u001B[39mitems():\n\u001B[1;32m    331\u001B[0m     \u001B[38;5;28;01mif\u001B[39;00m \u001B[38;5;28mproperty\u001B[39m \u001B[38;5;129;01min\u001B[39;00m instance:\n\u001B[0;32m--> 332\u001B[0m         \u001B[38;5;28;01myield from\u001B[39;00m validator\u001B[38;5;241m.\u001B[39mdescend(\n\u001B[1;32m    333\u001B[0m             instance[\u001B[38;5;28mproperty\u001B[39m],\n\u001B[1;32m    334\u001B[0m             subschema,\n\u001B[1;32m    335\u001B[0m             path\u001B[38;5;241m=\u001B[39m\u001B[38;5;28mproperty\u001B[39m,\n\u001B[1;32m    336\u001B[0m             schema_path\u001B[38;5;241m=\u001B[39m\u001B[38;5;28mproperty\u001B[39m,\n\u001B[1;32m    337\u001B[0m         )\n",
      "    \u001B[0;31m[... skipping similar frames: create.<locals>.Validator.descend at line 305 (1 times), create.<locals>.Validator.iter_errors at line 288 (1 times)]\u001B[0m\n",
      "File \u001B[0;32m~/opt/anaconda3/lib/python3.9/site-packages/jsonschema/_validators.py:76\u001B[0m, in \u001B[0;36mitems\u001B[0;34m(validator, items, instance, schema)\u001B[0m\n\u001B[1;32m     74\u001B[0m \u001B[38;5;28;01melse\u001B[39;00m:\n\u001B[1;32m     75\u001B[0m     \u001B[38;5;28;01mfor\u001B[39;00m index \u001B[38;5;129;01min\u001B[39;00m \u001B[38;5;28mrange\u001B[39m(prefix, total):\n\u001B[0;32m---> 76\u001B[0m         \u001B[38;5;28;01myield from\u001B[39;00m validator\u001B[38;5;241m.\u001B[39mdescend(\n\u001B[1;32m     77\u001B[0m             instance\u001B[38;5;241m=\u001B[39minstance[index],\n\u001B[1;32m     78\u001B[0m             schema\u001B[38;5;241m=\u001B[39mitems,\n\u001B[1;32m     79\u001B[0m             path\u001B[38;5;241m=\u001B[39mindex,\n\u001B[1;32m     80\u001B[0m         )\n",
      "    \u001B[0;31m[... skipping similar frames: create.<locals>.Validator.descend at line 305 (1 times), create.<locals>.Validator.iter_errors at line 288 (1 times)]\u001B[0m\n",
      "File \u001B[0;32m~/opt/anaconda3/lib/python3.9/site-packages/jsonschema/_validators.py:298\u001B[0m, in \u001B[0;36mref\u001B[0;34m(validator, ref, instance, schema)\u001B[0m\n\u001B[1;32m    295\u001B[0m validator\u001B[38;5;241m.\u001B[39mresolver\u001B[38;5;241m.\u001B[39mpush_scope(scope)\n\u001B[1;32m    297\u001B[0m \u001B[38;5;28;01mtry\u001B[39;00m:\n\u001B[0;32m--> 298\u001B[0m     \u001B[38;5;28;01myield from\u001B[39;00m validator\u001B[38;5;241m.\u001B[39mdescend(instance, resolved)\n\u001B[1;32m    299\u001B[0m \u001B[38;5;28;01mfinally\u001B[39;00m:\n\u001B[1;32m    300\u001B[0m     validator\u001B[38;5;241m.\u001B[39mresolver\u001B[38;5;241m.\u001B[39mpop_scope()\n",
      "File \u001B[0;32m~/opt/anaconda3/lib/python3.9/site-packages/jsonschema/validators.py:305\u001B[0m, in \u001B[0;36mcreate.<locals>.Validator.descend\u001B[0;34m(self, instance, schema, path, schema_path)\u001B[0m\n\u001B[1;32m    304\u001B[0m \u001B[38;5;28;01mdef\u001B[39;00m \u001B[38;5;21mdescend\u001B[39m(\u001B[38;5;28mself\u001B[39m, instance, schema, path\u001B[38;5;241m=\u001B[39m\u001B[38;5;28;01mNone\u001B[39;00m, schema_path\u001B[38;5;241m=\u001B[39m\u001B[38;5;28;01mNone\u001B[39;00m):\n\u001B[0;32m--> 305\u001B[0m     \u001B[38;5;28;01mfor\u001B[39;00m error \u001B[38;5;129;01min\u001B[39;00m \u001B[38;5;28mself\u001B[39m\u001B[38;5;241m.\u001B[39mevolve(schema\u001B[38;5;241m=\u001B[39mschema)\u001B[38;5;241m.\u001B[39miter_errors(instance):\n\u001B[1;32m    306\u001B[0m         \u001B[38;5;28;01mif\u001B[39;00m path \u001B[38;5;129;01mis\u001B[39;00m \u001B[38;5;129;01mnot\u001B[39;00m \u001B[38;5;28;01mNone\u001B[39;00m:\n\u001B[1;32m    307\u001B[0m             error\u001B[38;5;241m.\u001B[39mpath\u001B[38;5;241m.\u001B[39mappendleft(path)\n",
      "File \u001B[0;32m~/opt/anaconda3/lib/python3.9/site-packages/jsonschema/validators.py:288\u001B[0m, in \u001B[0;36mcreate.<locals>.Validator.iter_errors\u001B[0;34m(self, instance, _schema)\u001B[0m\n\u001B[1;32m    285\u001B[0m     \u001B[38;5;28;01mcontinue\u001B[39;00m\n\u001B[1;32m    287\u001B[0m errors \u001B[38;5;241m=\u001B[39m validator(\u001B[38;5;28mself\u001B[39m, v, instance, _schema) \u001B[38;5;129;01mor\u001B[39;00m ()\n\u001B[0;32m--> 288\u001B[0m \u001B[38;5;28;01mfor\u001B[39;00m error \u001B[38;5;129;01min\u001B[39;00m errors:\n\u001B[1;32m    289\u001B[0m     \u001B[38;5;66;03m# set details if not already set by the called fn\u001B[39;00m\n\u001B[1;32m    290\u001B[0m     error\u001B[38;5;241m.\u001B[39m_set(\n\u001B[1;32m    291\u001B[0m         validator\u001B[38;5;241m=\u001B[39mk,\n\u001B[1;32m    292\u001B[0m         validator_value\u001B[38;5;241m=\u001B[39mv,\n\u001B[0;32m   (...)\u001B[0m\n\u001B[1;32m    295\u001B[0m         type_checker\u001B[38;5;241m=\u001B[39m\u001B[38;5;28mself\u001B[39m\u001B[38;5;241m.\u001B[39mTYPE_CHECKER,\n\u001B[1;32m    296\u001B[0m     )\n\u001B[1;32m    297\u001B[0m     \u001B[38;5;28;01mif\u001B[39;00m k \u001B[38;5;129;01mnot\u001B[39;00m \u001B[38;5;129;01min\u001B[39;00m {\u001B[38;5;124m\"\u001B[39m\u001B[38;5;124mif\u001B[39m\u001B[38;5;124m\"\u001B[39m, \u001B[38;5;124m\"\u001B[39m\u001B[38;5;124m$ref\u001B[39m\u001B[38;5;124m\"\u001B[39m}:\n",
      "File \u001B[0;32m~/opt/anaconda3/lib/python3.9/site-packages/jsonschema/_validators.py:368\u001B[0m, in \u001B[0;36manyOf\u001B[0;34m(validator, anyOf, instance, schema)\u001B[0m\n\u001B[1;32m    366\u001B[0m all_errors \u001B[38;5;241m=\u001B[39m []\n\u001B[1;32m    367\u001B[0m \u001B[38;5;28;01mfor\u001B[39;00m index, subschema \u001B[38;5;129;01min\u001B[39;00m \u001B[38;5;28menumerate\u001B[39m(anyOf):\n\u001B[0;32m--> 368\u001B[0m     errs \u001B[38;5;241m=\u001B[39m \u001B[38;5;28;43mlist\u001B[39;49m\u001B[43m(\u001B[49m\u001B[43mvalidator\u001B[49m\u001B[38;5;241;43m.\u001B[39;49m\u001B[43mdescend\u001B[49m\u001B[43m(\u001B[49m\u001B[43minstance\u001B[49m\u001B[43m,\u001B[49m\u001B[43m \u001B[49m\u001B[43msubschema\u001B[49m\u001B[43m,\u001B[49m\u001B[43m \u001B[49m\u001B[43mschema_path\u001B[49m\u001B[38;5;241;43m=\u001B[39;49m\u001B[43mindex\u001B[49m\u001B[43m)\u001B[49m\u001B[43m)\u001B[49m\n\u001B[1;32m    369\u001B[0m     \u001B[38;5;28;01mif\u001B[39;00m \u001B[38;5;129;01mnot\u001B[39;00m errs:\n\u001B[1;32m    370\u001B[0m         \u001B[38;5;28;01mbreak\u001B[39;00m\n",
      "File \u001B[0;32m~/opt/anaconda3/lib/python3.9/site-packages/jsonschema/validators.py:305\u001B[0m, in \u001B[0;36mcreate.<locals>.Validator.descend\u001B[0;34m(self, instance, schema, path, schema_path)\u001B[0m\n\u001B[1;32m    304\u001B[0m \u001B[38;5;28;01mdef\u001B[39;00m \u001B[38;5;21mdescend\u001B[39m(\u001B[38;5;28mself\u001B[39m, instance, schema, path\u001B[38;5;241m=\u001B[39m\u001B[38;5;28;01mNone\u001B[39;00m, schema_path\u001B[38;5;241m=\u001B[39m\u001B[38;5;28;01mNone\u001B[39;00m):\n\u001B[0;32m--> 305\u001B[0m     \u001B[38;5;28;01mfor\u001B[39;00m error \u001B[38;5;129;01min\u001B[39;00m \u001B[38;5;28mself\u001B[39m\u001B[38;5;241m.\u001B[39mevolve(schema\u001B[38;5;241m=\u001B[39mschema)\u001B[38;5;241m.\u001B[39miter_errors(instance):\n\u001B[1;32m    306\u001B[0m         \u001B[38;5;28;01mif\u001B[39;00m path \u001B[38;5;129;01mis\u001B[39;00m \u001B[38;5;129;01mnot\u001B[39;00m \u001B[38;5;28;01mNone\u001B[39;00m:\n\u001B[1;32m    307\u001B[0m             error\u001B[38;5;241m.\u001B[39mpath\u001B[38;5;241m.\u001B[39mappendleft(path)\n",
      "File \u001B[0;32m~/opt/anaconda3/lib/python3.9/site-packages/jsonschema/validators.py:288\u001B[0m, in \u001B[0;36mcreate.<locals>.Validator.iter_errors\u001B[0;34m(self, instance, _schema)\u001B[0m\n\u001B[1;32m    285\u001B[0m     \u001B[38;5;28;01mcontinue\u001B[39;00m\n\u001B[1;32m    287\u001B[0m errors \u001B[38;5;241m=\u001B[39m validator(\u001B[38;5;28mself\u001B[39m, v, instance, _schema) \u001B[38;5;129;01mor\u001B[39;00m ()\n\u001B[0;32m--> 288\u001B[0m \u001B[38;5;28;01mfor\u001B[39;00m error \u001B[38;5;129;01min\u001B[39;00m errors:\n\u001B[1;32m    289\u001B[0m     \u001B[38;5;66;03m# set details if not already set by the called fn\u001B[39;00m\n\u001B[1;32m    290\u001B[0m     error\u001B[38;5;241m.\u001B[39m_set(\n\u001B[1;32m    291\u001B[0m         validator\u001B[38;5;241m=\u001B[39mk,\n\u001B[1;32m    292\u001B[0m         validator_value\u001B[38;5;241m=\u001B[39mv,\n\u001B[0;32m   (...)\u001B[0m\n\u001B[1;32m    295\u001B[0m         type_checker\u001B[38;5;241m=\u001B[39m\u001B[38;5;28mself\u001B[39m\u001B[38;5;241m.\u001B[39mTYPE_CHECKER,\n\u001B[1;32m    296\u001B[0m     )\n\u001B[1;32m    297\u001B[0m     \u001B[38;5;28;01mif\u001B[39;00m k \u001B[38;5;129;01mnot\u001B[39;00m \u001B[38;5;129;01min\u001B[39;00m {\u001B[38;5;124m\"\u001B[39m\u001B[38;5;124mif\u001B[39m\u001B[38;5;124m\"\u001B[39m, \u001B[38;5;124m\"\u001B[39m\u001B[38;5;124m$ref\u001B[39m\u001B[38;5;124m\"\u001B[39m}:\n",
      "File \u001B[0;32m~/opt/anaconda3/lib/python3.9/site-packages/jsonschema/_validators.py:298\u001B[0m, in \u001B[0;36mref\u001B[0;34m(validator, ref, instance, schema)\u001B[0m\n\u001B[1;32m    295\u001B[0m validator\u001B[38;5;241m.\u001B[39mresolver\u001B[38;5;241m.\u001B[39mpush_scope(scope)\n\u001B[1;32m    297\u001B[0m \u001B[38;5;28;01mtry\u001B[39;00m:\n\u001B[0;32m--> 298\u001B[0m     \u001B[38;5;28;01myield from\u001B[39;00m validator\u001B[38;5;241m.\u001B[39mdescend(instance, resolved)\n\u001B[1;32m    299\u001B[0m \u001B[38;5;28;01mfinally\u001B[39;00m:\n\u001B[1;32m    300\u001B[0m     validator\u001B[38;5;241m.\u001B[39mresolver\u001B[38;5;241m.\u001B[39mpop_scope()\n",
      "File \u001B[0;32m~/opt/anaconda3/lib/python3.9/site-packages/jsonschema/validators.py:305\u001B[0m, in \u001B[0;36mcreate.<locals>.Validator.descend\u001B[0;34m(self, instance, schema, path, schema_path)\u001B[0m\n\u001B[1;32m    304\u001B[0m \u001B[38;5;28;01mdef\u001B[39;00m \u001B[38;5;21mdescend\u001B[39m(\u001B[38;5;28mself\u001B[39m, instance, schema, path\u001B[38;5;241m=\u001B[39m\u001B[38;5;28;01mNone\u001B[39;00m, schema_path\u001B[38;5;241m=\u001B[39m\u001B[38;5;28;01mNone\u001B[39;00m):\n\u001B[0;32m--> 305\u001B[0m     \u001B[38;5;28;01mfor\u001B[39;00m error \u001B[38;5;129;01min\u001B[39;00m \u001B[38;5;28mself\u001B[39m\u001B[38;5;241m.\u001B[39mevolve(schema\u001B[38;5;241m=\u001B[39mschema)\u001B[38;5;241m.\u001B[39miter_errors(instance):\n\u001B[1;32m    306\u001B[0m         \u001B[38;5;28;01mif\u001B[39;00m path \u001B[38;5;129;01mis\u001B[39;00m \u001B[38;5;129;01mnot\u001B[39;00m \u001B[38;5;28;01mNone\u001B[39;00m:\n\u001B[1;32m    307\u001B[0m             error\u001B[38;5;241m.\u001B[39mpath\u001B[38;5;241m.\u001B[39mappendleft(path)\n",
      "File \u001B[0;32m~/opt/anaconda3/lib/python3.9/site-packages/jsonschema/validators.py:288\u001B[0m, in \u001B[0;36mcreate.<locals>.Validator.iter_errors\u001B[0;34m(self, instance, _schema)\u001B[0m\n\u001B[1;32m    285\u001B[0m     \u001B[38;5;28;01mcontinue\u001B[39;00m\n\u001B[1;32m    287\u001B[0m errors \u001B[38;5;241m=\u001B[39m validator(\u001B[38;5;28mself\u001B[39m, v, instance, _schema) \u001B[38;5;129;01mor\u001B[39;00m ()\n\u001B[0;32m--> 288\u001B[0m \u001B[38;5;28;01mfor\u001B[39;00m error \u001B[38;5;129;01min\u001B[39;00m errors:\n\u001B[1;32m    289\u001B[0m     \u001B[38;5;66;03m# set details if not already set by the called fn\u001B[39;00m\n\u001B[1;32m    290\u001B[0m     error\u001B[38;5;241m.\u001B[39m_set(\n\u001B[1;32m    291\u001B[0m         validator\u001B[38;5;241m=\u001B[39mk,\n\u001B[1;32m    292\u001B[0m         validator_value\u001B[38;5;241m=\u001B[39mv,\n\u001B[0;32m   (...)\u001B[0m\n\u001B[1;32m    295\u001B[0m         type_checker\u001B[38;5;241m=\u001B[39m\u001B[38;5;28mself\u001B[39m\u001B[38;5;241m.\u001B[39mTYPE_CHECKER,\n\u001B[1;32m    296\u001B[0m     )\n\u001B[1;32m    297\u001B[0m     \u001B[38;5;28;01mif\u001B[39;00m k \u001B[38;5;129;01mnot\u001B[39;00m \u001B[38;5;129;01min\u001B[39;00m {\u001B[38;5;124m\"\u001B[39m\u001B[38;5;124mif\u001B[39m\u001B[38;5;124m\"\u001B[39m, \u001B[38;5;124m\"\u001B[39m\u001B[38;5;124m$ref\u001B[39m\u001B[38;5;124m\"\u001B[39m}:\n",
      "File \u001B[0;32m~/opt/anaconda3/lib/python3.9/site-packages/jsonschema/_validators.py:332\u001B[0m, in \u001B[0;36mproperties\u001B[0;34m(validator, properties, instance, schema)\u001B[0m\n\u001B[1;32m    330\u001B[0m \u001B[38;5;28;01mfor\u001B[39;00m \u001B[38;5;28mproperty\u001B[39m, subschema \u001B[38;5;129;01min\u001B[39;00m properties\u001B[38;5;241m.\u001B[39mitems():\n\u001B[1;32m    331\u001B[0m     \u001B[38;5;28;01mif\u001B[39;00m \u001B[38;5;28mproperty\u001B[39m \u001B[38;5;129;01min\u001B[39;00m instance:\n\u001B[0;32m--> 332\u001B[0m         \u001B[38;5;28;01myield from\u001B[39;00m validator\u001B[38;5;241m.\u001B[39mdescend(\n\u001B[1;32m    333\u001B[0m             instance[\u001B[38;5;28mproperty\u001B[39m],\n\u001B[1;32m    334\u001B[0m             subschema,\n\u001B[1;32m    335\u001B[0m             path\u001B[38;5;241m=\u001B[39m\u001B[38;5;28mproperty\u001B[39m,\n\u001B[1;32m    336\u001B[0m             schema_path\u001B[38;5;241m=\u001B[39m\u001B[38;5;28mproperty\u001B[39m,\n\u001B[1;32m    337\u001B[0m         )\n",
      "    \u001B[0;31m[... skipping similar frames: create.<locals>.Validator.descend at line 305 (1 times)]\u001B[0m\n",
      "File \u001B[0;32m~/opt/anaconda3/lib/python3.9/site-packages/jsonschema/validators.py:288\u001B[0m, in \u001B[0;36mcreate.<locals>.Validator.iter_errors\u001B[0;34m(self, instance, _schema)\u001B[0m\n\u001B[1;32m    285\u001B[0m     \u001B[38;5;28;01mcontinue\u001B[39;00m\n\u001B[1;32m    287\u001B[0m errors \u001B[38;5;241m=\u001B[39m validator(\u001B[38;5;28mself\u001B[39m, v, instance, _schema) \u001B[38;5;129;01mor\u001B[39;00m ()\n\u001B[0;32m--> 288\u001B[0m \u001B[38;5;28;01mfor\u001B[39;00m error \u001B[38;5;129;01min\u001B[39;00m errors:\n\u001B[1;32m    289\u001B[0m     \u001B[38;5;66;03m# set details if not already set by the called fn\u001B[39;00m\n\u001B[1;32m    290\u001B[0m     error\u001B[38;5;241m.\u001B[39m_set(\n\u001B[1;32m    291\u001B[0m         validator\u001B[38;5;241m=\u001B[39mk,\n\u001B[1;32m    292\u001B[0m         validator_value\u001B[38;5;241m=\u001B[39mv,\n\u001B[0;32m   (...)\u001B[0m\n\u001B[1;32m    295\u001B[0m         type_checker\u001B[38;5;241m=\u001B[39m\u001B[38;5;28mself\u001B[39m\u001B[38;5;241m.\u001B[39mTYPE_CHECKER,\n\u001B[1;32m    296\u001B[0m     )\n\u001B[1;32m    297\u001B[0m     \u001B[38;5;28;01mif\u001B[39;00m k \u001B[38;5;129;01mnot\u001B[39;00m \u001B[38;5;129;01min\u001B[39;00m {\u001B[38;5;124m\"\u001B[39m\u001B[38;5;124mif\u001B[39m\u001B[38;5;124m\"\u001B[39m, \u001B[38;5;124m\"\u001B[39m\u001B[38;5;124m$ref\u001B[39m\u001B[38;5;124m\"\u001B[39m}:\n",
      "File \u001B[0;32m~/opt/anaconda3/lib/python3.9/site-packages/jsonschema/_validators.py:76\u001B[0m, in \u001B[0;36mitems\u001B[0;34m(validator, items, instance, schema)\u001B[0m\n\u001B[1;32m     74\u001B[0m \u001B[38;5;28;01melse\u001B[39;00m:\n\u001B[1;32m     75\u001B[0m     \u001B[38;5;28;01mfor\u001B[39;00m index \u001B[38;5;129;01min\u001B[39;00m \u001B[38;5;28mrange\u001B[39m(prefix, total):\n\u001B[0;32m---> 76\u001B[0m         \u001B[38;5;28;01myield from\u001B[39;00m validator\u001B[38;5;241m.\u001B[39mdescend(\n\u001B[1;32m     77\u001B[0m             instance\u001B[38;5;241m=\u001B[39minstance[index],\n\u001B[1;32m     78\u001B[0m             schema\u001B[38;5;241m=\u001B[39mitems,\n\u001B[1;32m     79\u001B[0m             path\u001B[38;5;241m=\u001B[39mindex,\n\u001B[1;32m     80\u001B[0m         )\n",
      "File \u001B[0;32m~/opt/anaconda3/lib/python3.9/site-packages/jsonschema/validators.py:305\u001B[0m, in \u001B[0;36mcreate.<locals>.Validator.descend\u001B[0;34m(self, instance, schema, path, schema_path)\u001B[0m\n\u001B[1;32m    304\u001B[0m \u001B[38;5;28;01mdef\u001B[39;00m \u001B[38;5;21mdescend\u001B[39m(\u001B[38;5;28mself\u001B[39m, instance, schema, path\u001B[38;5;241m=\u001B[39m\u001B[38;5;28;01mNone\u001B[39;00m, schema_path\u001B[38;5;241m=\u001B[39m\u001B[38;5;28;01mNone\u001B[39;00m):\n\u001B[0;32m--> 305\u001B[0m     \u001B[38;5;28;01mfor\u001B[39;00m error \u001B[38;5;129;01min\u001B[39;00m \u001B[38;5;28mself\u001B[39m\u001B[38;5;241m.\u001B[39mevolve(schema\u001B[38;5;241m=\u001B[39mschema)\u001B[38;5;241m.\u001B[39miter_errors(instance):\n\u001B[1;32m    306\u001B[0m         \u001B[38;5;28;01mif\u001B[39;00m path \u001B[38;5;129;01mis\u001B[39;00m \u001B[38;5;129;01mnot\u001B[39;00m \u001B[38;5;28;01mNone\u001B[39;00m:\n\u001B[1;32m    307\u001B[0m             error\u001B[38;5;241m.\u001B[39mpath\u001B[38;5;241m.\u001B[39mappendleft(path)\n",
      "File \u001B[0;32m~/opt/anaconda3/lib/python3.9/site-packages/jsonschema/validators.py:278\u001B[0m, in \u001B[0;36mcreate.<locals>.Validator.iter_errors\u001B[0;34m(self, instance, _schema)\u001B[0m\n\u001B[1;32m    269\u001B[0m     \u001B[38;5;28;01myield\u001B[39;00m exceptions\u001B[38;5;241m.\u001B[39mValidationError(\n\u001B[1;32m    270\u001B[0m         \u001B[38;5;124mf\u001B[39m\u001B[38;5;124m\"\u001B[39m\u001B[38;5;124mFalse schema does not allow \u001B[39m\u001B[38;5;132;01m{\u001B[39;00minstance\u001B[38;5;132;01m!r}\u001B[39;00m\u001B[38;5;124m\"\u001B[39m,\n\u001B[1;32m    271\u001B[0m         validator\u001B[38;5;241m=\u001B[39m\u001B[38;5;28;01mNone\u001B[39;00m,\n\u001B[0;32m   (...)\u001B[0m\n\u001B[1;32m    274\u001B[0m         schema\u001B[38;5;241m=\u001B[39m_schema,\n\u001B[1;32m    275\u001B[0m     )\n\u001B[1;32m    276\u001B[0m     \u001B[38;5;28;01mreturn\u001B[39;00m\n\u001B[0;32m--> 278\u001B[0m scope \u001B[38;5;241m=\u001B[39m \u001B[43mid_of\u001B[49m\u001B[43m(\u001B[49m\u001B[43m_schema\u001B[49m\u001B[43m)\u001B[49m\n\u001B[1;32m    279\u001B[0m \u001B[38;5;28;01mif\u001B[39;00m scope:\n\u001B[1;32m    280\u001B[0m     \u001B[38;5;28mself\u001B[39m\u001B[38;5;241m.\u001B[39mresolver\u001B[38;5;241m.\u001B[39mpush_scope(scope)\n",
      "File \u001B[0;32m~/opt/anaconda3/lib/python3.9/site-packages/jsonschema/validators.py:101\u001B[0m, in \u001B[0;36m_id_of\u001B[0;34m(schema)\u001B[0m\n\u001B[1;32m     99\u001B[0m \u001B[38;5;28;01mif\u001B[39;00m schema \u001B[38;5;129;01mis\u001B[39;00m \u001B[38;5;28;01mTrue\u001B[39;00m \u001B[38;5;129;01mor\u001B[39;00m schema \u001B[38;5;129;01mis\u001B[39;00m \u001B[38;5;28;01mFalse\u001B[39;00m:\n\u001B[1;32m    100\u001B[0m     \u001B[38;5;28;01mreturn\u001B[39;00m \u001B[38;5;124m\"\u001B[39m\u001B[38;5;124m\"\u001B[39m\n\u001B[0;32m--> 101\u001B[0m \u001B[38;5;28;01mreturn\u001B[39;00m \u001B[43mschema\u001B[49m\u001B[38;5;241;43m.\u001B[39;49m\u001B[43mget\u001B[49m(\u001B[38;5;124m\"\u001B[39m\u001B[38;5;124m$id\u001B[39m\u001B[38;5;124m\"\u001B[39m, \u001B[38;5;124m\"\u001B[39m\u001B[38;5;124m\"\u001B[39m)\n",
      "\u001B[0;31mAttributeError\u001B[0m: 'list' object has no attribute 'get'"
     ]
    },
    {
     "data": {
      "text/plain": "alt.VConcatChart(...)"
     },
     "execution_count": 18,
     "metadata": {},
     "output_type": "execute_result"
    }
   ],
   "source": [
    "import pandas as pd\n",
    "import altair as alt\n",
    "from vega_datasets import data\n",
    "\n",
    "alt.data_transformers.disable_max_rows()\n",
    "\n",
    "worldmap = alt.topo_feature(data.world_110m.url, 'countries')\n",
    "\n",
    "city_select = alt.selection_single(on=\"mouseover\", nearest=True, fields=[\"Origin\"], empty=\"none\")\n",
    "\n",
    "lookup_data = alt.LookupData(airports, key=\"IATA\", fields=[\"Airport ID\", \"Latitude\", \"Longitude\"])\n",
    "\n",
    "background = alt.Chart(worldmap).mark_geoshape(fill=\"lightgray\", stroke=\"white\").properties(width=900, height=600).project(type=\"naturalEarth1\")\n",
    "\n",
    "connections = alt.Chart(routes).mark_rule(opacity=0.35).encode(\n",
    "    latitude=\"Latitude:Q\",\n",
    "    longitude=\"Longitude:Q\",\n",
    "    latitude2=\"lat2:Q\",\n",
    "    longitude2=\"lon2:Q\"\n",
    ").transform_lookup(\n",
    "    lookup=\"Origin\",\n",
    "    from_=lookup_data\n",
    ").transform_lookup(\n",
    "    lookup=\"Destination\",\n",
    "    from_=lookup_data,\n",
    "    as_=[\"Airport ID\", \"lat2\", \"lon2\"]\n",
    ").transform_filter(\n",
    "    city_select\n",
    ")\n",
    "\n",
    "lookup_data_dest = alt.LookupData(\n",
    "    airports, key=\"IATA\", fields=[\"Airport ID\", \"Latitude\", \"Longitude\"]\n",
    ")\n",
    "\n",
    "points = alt.Chart(routes).mark_circle().encode(\n",
    "    latitude=\"Latitude:Q\",\n",
    "    longitude=\"Longitude:Q\",\n",
    "    size=alt.Size(\"routes:Q\", scale=alt.Scale(range=[0, 100]), legend=None),\n",
    "    color=alt.condition(\n",
    "        city_select,\n",
    "        alt.value(\"orange\"),\n",
    "        alt.value(\"steelblue\")\n",
    "    ),\n",
    "    order=alt.Order(\"routes:Q\", sort=\"descending\"),\n",
    "    tooltip=[\"Airport ID:N\", \"Origin:N\", \"routes:Q\"]\n",
    ").transform_aggregate(\n",
    "    routes=\"count()\",\n",
    "    groupby=[\"Origin\"]\n",
    ").transform_lookup(\n",
    "    lookup=\"Origin\",\n",
    "    from_=lookup_data,\n",
    ").add_selection(\n",
    "    city_select\n",
    ").properties(title='Global Airports Route Map')\n",
    "\n",
    " # Group airports by IATA code and count the number of routes\n",
    "airport_routes = routes.groupby('Origin').size().reset_index(name='num_routes')\n",
    "\n",
    "# Join the route data with the airport data to get airport names and coordinates\n",
    "airport_routes = pd.merge(airport_routes, airports[['IATA', 'Airport ID', \"Name\", 'Latitude', 'Longitude']], left_on='Origin', right_on='IATA')\n",
    "\n",
    "interval = alt.selection_interval(encodings=['x'])\n",
    "\n",
    "base = alt.Chart(airport_routes).mark_rule(size=1).encode(\n",
    "    x=alt.X('Airport ID:N', axis=alt.Axis(labelFontSize=0), sort=alt.EncodingSortField(field='num_routes', order='descending')),\n",
    "    y='num_routes:Q',\n",
    "    color=alt.condition(\n",
    "        city_select,\n",
    "        alt.value('orange'),\n",
    "        alt.value('steelblue')\n",
    "    ),\n",
    "    tooltip=['Name:N','Airport ID:N', 'num_routes:Q']\n",
    ").add_selection(\n",
    "    city_select\n",
    ")\n",
    "\n",
    "chart = base.encode(\n",
    "    x=alt.X('Airport ID:N', axis=alt.Axis(labelFontSize=0), scale=alt.Scale(domain=interval.ref()), sort=alt.EncodingSortField(field='num_routes', order='descending'))\n",
    ").properties(\n",
    "    width=800,\n",
    "    height=200\n",
    ")\n",
    "\n",
    "view = base.add_selection(\n",
    "    interval\n",
    ").properties(\n",
    "    width=800,\n",
    "    height=50,\n",
    ")\n",
    "\n",
    "\n",
    "map_fig = (background + connections + points)\n",
    "groupTwo = alt.vconcat(chart, view)\n",
    "\n",
    "dashboard = alt.vconcat(map_fig, groupTwo)\n",
    "dashboard"
   ]
  },
  {
   "cell_type": "code",
   "source": [],
   "metadata": {
    "id": "c0OR0UUm_0vl"
   },
   "execution_count": 18,
   "outputs": []
  }
 ]
}
