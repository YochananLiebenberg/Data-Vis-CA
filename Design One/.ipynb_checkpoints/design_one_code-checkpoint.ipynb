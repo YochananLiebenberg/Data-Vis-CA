{
 "cells": [
  {
   "cell_type": "markdown",
   "metadata": {
    "pycharm": {
     "name": "#%% md\n"
    }
   },
   "source": [
    "# Design One\n",
    "##### The goal of this design is to analyse and visualise the flight network of airlines, airports and routes using the OpenFlights database. The design will focus on understanding the relationships between different airports, airlines, and routes and their geographical distribution.\n",
    "\n",
    "#### Data Abstraction:\n",
    "The design will use five different databases provided by OpenFlights - the Countries database, Airport database, the Airline database, the Route database, and the Plane database. The Airport database contains information about over 10,000 airports, train stations, and ferry terminals around the world, including their unique identifier, name, city, country, IATA and ICAO codes, latitude and longitude, altitude, timezone, daylight savings time, and type. The Airline database contains information about over 5,888 airlines, including their unique identifier, name, alias, IATA and ICAO codes, callsign, country, and active status. The Route database contains information about over 67,663 routes between 3321 airports, including the airline, source airport, destination airport, and number of stops. The Plane database contains information about 173 passenger aircraft and their IATA and ICAO codes. The Countries database contains a list of ISO 3166-1 country codes, which can be used to look up the human-readable country names for the codes used in the Airline and Airport tables.\n",
    "\n",
    "\n",
    "#### Task Abstraction:\n",
    "\n",
    "The design will perform the following tasks:\n",
    "- Data Cleaning and Preprocessing - The data from the OpenFlights database will be preprocessed to remove any missing or irrelevant information and to ensure consistency in the data.\n",
    "- Network Analysis - The design will analyse the relationships between the airports, airlines, and routes and create a network graph to visualise the connections. The design will also calculate various network metrics such as the number of nodes, edges, and degrees of the graph.\n",
    "- Geographical Distribution - The design will visualise the geographical distribution of the airports and routes on a map. The latitude and longitude of the airports will be used to plot their locations on the map.\n",
    "- Airline Analysis - The design will analyse the airlines and their connections to the airports and routes. The design will visualise the distribution of airlines across different countries and their number of routes.\n",
    "- Route Analysis - The design will analyse the routes and their connections to the airlines and airports. The design will visualise the distribution of routes between different countries and the number of stops in each route.\n",
    "- Plane Analysis - The design will analyse the types of planes used by the airlines and their distribution. The design will also visualise the relationship between different types of planes and the airlines that operate them."
   ]
  },
  {
   "cell_type": "markdown",
   "metadata": {
    "pycharm": {
     "name": "#%% md\n"
    }
   },
   "source": [
    "# Data Cleaning and Preprocessing\n",
    "\n",
    "## airlines.dat"
   ]
  },
  {
   "cell_type": "code",
   "execution_count": 19,
   "metadata": {
    "pycharm": {
     "name": "#%%\n"
    }
   },
   "outputs": [
    {
     "name": "stdout",
     "output_type": "stream",
     "text": [
      "   airline_id                                          name alias iata icao  \\\n",
      "0          -1                                       Unknown    \\N    -  NaN   \n",
      "1           1                                Private flight    \\N    -  NaN   \n",
      "2           2                                   135 Airways    \\N  NaN  GNL   \n",
      "3           3                                 1Time Airline    \\N   1T  RNX   \n",
      "4           4  2 Sqn No 1 Elementary Flying Training School    \\N  NaN  WYT   \n",
      "\n",
      "  callsign         country active  \n",
      "0       \\N              \\N      Y  \n",
      "1      NaN             NaN      Y  \n",
      "2  GENERAL   United States      N  \n",
      "3  NEXTIME    South Africa      Y  \n",
      "4      NaN  United Kingdom      N  \n",
      "airline_id       0\n",
      "name             0\n",
      "alias          506\n",
      "iata          4627\n",
      "icao            87\n",
      "callsign       808\n",
      "country         15\n",
      "active           0\n",
      "dtype: int64\n"
     ]
    }
   ],
   "source": [
    "import pandas as pd\n",
    "airlines = pd.read_csv('airlines.dat', delimiter=',', names=['airline_id', 'name', 'alias', 'iata', 'icao', 'callsign', 'country', 'active'])\n",
    "print(airlines.head())\n",
    "print(airlines.isna().sum())"
   ]
  },
  {
   "cell_type": "code",
   "execution_count": 20,
   "metadata": {
    "pycharm": {
     "name": "#%%\n"
    }
   },
   "outputs": [],
   "source": [
    "# Drop unwanted columns\n",
    "airlines.drop(['alias', 'iata', 'callsign'], axis=1, inplace=True)\n",
    "\n",
    "# Remove rows with missing data in icao and country columns\n",
    "airlines.dropna(subset=['icao', 'country'], inplace=True)\n"
   ]
  },
  {
   "cell_type": "code",
   "execution_count": 21,
   "metadata": {
    "pycharm": {
     "name": "#%%\n"
    }
   },
   "outputs": [
    {
     "name": "stdout",
     "output_type": "stream",
     "text": [
      "   airline_id                                          name icao  \\\n",
      "2           2                                   135 Airways  GNL   \n",
      "3           3                                 1Time Airline  RNX   \n",
      "4           4  2 Sqn No 1 Elementary Flying Training School  WYT   \n",
      "5           5                               213 Flight Unit  TFU   \n",
      "6           6                 223 Flight Unit State Airline  CHD   \n",
      "\n",
      "          country active  \n",
      "2   United States      N  \n",
      "3    South Africa      Y  \n",
      "4  United Kingdom      N  \n",
      "5          Russia      N  \n",
      "6          Russia      N  \n"
     ]
    }
   ],
   "source": [
    "print(airlines.head())"
   ]
  },
  {
   "cell_type": "markdown",
   "metadata": {},
   "source": [
    "## airports.dat"
   ]
  },
  {
   "cell_type": "code",
   "execution_count": 22,
   "metadata": {
    "pycharm": {
     "name": "#%%\n"
    }
   },
   "outputs": [
    {
     "name": "stdout",
     "output_type": "stream",
     "text": [
      "                                    Airport ID          Name  \\\n",
      "1                               Goroka Airport        Goroka   \n",
      "2                               Madang Airport        Madang   \n",
      "3                 Mount Hagen Kagamuga Airport   Mount Hagen   \n",
      "4                               Nadzab Airport        Nadzab   \n",
      "5  Port Moresby Jacksons International Airport  Port Moresby   \n",
      "\n",
      "               City Country  IATA      ICAO    Latitude  Longitude Altitude  \\\n",
      "1  Papua New Guinea     GKA  AYGA -6.081690  145.391998       5282       10   \n",
      "2  Papua New Guinea     MAG  AYMD -5.207080  145.789001         20       10   \n",
      "3  Papua New Guinea     HGU  AYMH -5.826790  144.296005       5388       10   \n",
      "4  Papua New Guinea     LAE  AYNZ -6.569803  146.725977        239       10   \n",
      "5  Papua New Guinea     POM  AYPY -9.443380  147.220001        146       10   \n",
      "\n",
      "  Timezone                   DST       Tz         Type  \n",
      "1        U  Pacific/Port_Moresby  airport  OurAirports  \n",
      "2        U  Pacific/Port_Moresby  airport  OurAirports  \n",
      "3        U  Pacific/Port_Moresby  airport  OurAirports  \n",
      "4        U  Pacific/Port_Moresby  airport  OurAirports  \n",
      "5        U  Pacific/Port_Moresby  airport  OurAirports  \n",
      "Airport ID     0\n",
      "Name          49\n",
      "City           0\n",
      "Country        0\n",
      "IATA           0\n",
      "ICAO           0\n",
      "Latitude       0\n",
      "Longitude      0\n",
      "Altitude       0\n",
      "Timezone       0\n",
      "DST            0\n",
      "Tz             0\n",
      "Type           0\n",
      "dtype: int64\n"
     ]
    }
   ],
   "source": [
    "airports = pd.read_csv('airports.dat', delimiter=',', names=['Airport ID', 'Name', 'City', 'Country', 'IATA', 'ICAO', 'Latitude', 'Longitude', 'Altitude', 'Timezone', 'DST', 'Tz', 'Type'])\n",
    "print(airports.head())\n",
    "print(airports.isna().sum())\n"
   ]
  },
  {
   "cell_type": "code",
   "execution_count": 23,
   "metadata": {
    "pycharm": {
     "name": "#%%\n"
    }
   },
   "outputs": [],
   "source": [
    "# Drop unwanted columns\n",
    "airports.drop('Name', axis=1, inplace=True)\n"
   ]
  },
  {
   "cell_type": "code",
   "execution_count": 24,
   "metadata": {
    "pycharm": {
     "name": "#%%\n"
    }
   },
   "outputs": [
    {
     "name": "stdout",
     "output_type": "stream",
     "text": [
      "                                    Airport ID              City Country  \\\n",
      "1                               Goroka Airport  Papua New Guinea     GKA   \n",
      "2                               Madang Airport  Papua New Guinea     MAG   \n",
      "3                 Mount Hagen Kagamuga Airport  Papua New Guinea     HGU   \n",
      "4                               Nadzab Airport  Papua New Guinea     LAE   \n",
      "5  Port Moresby Jacksons International Airport  Papua New Guinea     POM   \n",
      "\n",
      "   IATA      ICAO    Latitude  Longitude Altitude Timezone  \\\n",
      "1  AYGA -6.081690  145.391998       5282       10        U   \n",
      "2  AYMD -5.207080  145.789001         20       10        U   \n",
      "3  AYMH -5.826790  144.296005       5388       10        U   \n",
      "4  AYNZ -6.569803  146.725977        239       10        U   \n",
      "5  AYPY -9.443380  147.220001        146       10        U   \n",
      "\n",
      "                    DST       Tz         Type  \n",
      "1  Pacific/Port_Moresby  airport  OurAirports  \n",
      "2  Pacific/Port_Moresby  airport  OurAirports  \n",
      "3  Pacific/Port_Moresby  airport  OurAirports  \n",
      "4  Pacific/Port_Moresby  airport  OurAirports  \n",
      "5  Pacific/Port_Moresby  airport  OurAirports  \n"
     ]
    }
   ],
   "source": [
    "print(airports.head())\n"
   ]
  },
  {
   "cell_type": "markdown",
   "metadata": {},
   "source": [
    "## routes.dat\n"
   ]
  },
  {
   "cell_type": "code",
   "execution_count": 25,
   "metadata": {
    "pycharm": {
     "name": "#%%\n"
    }
   },
   "outputs": [
    {
     "name": "stdout",
     "output_type": "stream",
     "text": [
      "  Airline Airline ID Source airport Source airport ID Destination airport  \\\n",
      "0      2B        410            AER              2965                 KZN   \n",
      "1      2B        410            ASF              2966                 KZN   \n",
      "2      2B        410            ASF              2966                 MRV   \n",
      "3      2B        410            CEK              2968                 KZN   \n",
      "4      2B        410            CEK              2968                 OVB   \n",
      "\n",
      "  Destination airport ID Codeshare  Stops Equipment  \n",
      "0                   2990       NaN      0       CR2  \n",
      "1                   2990       NaN      0       CR2  \n",
      "2                   2962       NaN      0       CR2  \n",
      "3                   2990       NaN      0       CR2  \n",
      "4                   4078       NaN      0       CR2  \n",
      "Airline                       0\n",
      "Airline ID                    0\n",
      "Source airport                0\n",
      "Source airport ID             0\n",
      "Destination airport           0\n",
      "Destination airport ID        0\n",
      "Codeshare                 53066\n",
      "Stops                         0\n",
      "Equipment                    18\n",
      "dtype: int64\n"
     ]
    }
   ],
   "source": [
    "routes = pd.read_csv('routes.dat', delimiter=',', names=['Airline', 'Airline ID', 'Source airport', 'Source airport ID', 'Destination airport', 'Destination airport ID', 'Codeshare', 'Stops', 'Equipment'])\n",
    "print(routes.head())\n",
    "print(routes.isna().sum())\n"
   ]
  },
  {
   "cell_type": "code",
   "execution_count": 26,
   "metadata": {
    "pycharm": {
     "name": "#%%\n"
    }
   },
   "outputs": [],
   "source": [
    "# Drop unwanted columns\n",
    "routes = routes.drop('Codeshare', axis=1)\n",
    "\n",
    "# Remove rows with missing data in Equipment column\n",
    "routes.dropna(subset=['Equipment'], inplace=True)"
   ]
  },
  {
   "cell_type": "code",
   "execution_count": 27,
   "metadata": {
    "pycharm": {
     "name": "#%%\n"
    }
   },
   "outputs": [
    {
     "name": "stdout",
     "output_type": "stream",
     "text": [
      "  Airline Airline ID Source airport Source airport ID Destination airport  \\\n",
      "0      2B        410            AER              2965                 KZN   \n",
      "1      2B        410            ASF              2966                 KZN   \n",
      "2      2B        410            ASF              2966                 MRV   \n",
      "3      2B        410            CEK              2968                 KZN   \n",
      "4      2B        410            CEK              2968                 OVB   \n",
      "\n",
      "  Destination airport ID  Stops Equipment  \n",
      "0                   2990      0       CR2  \n",
      "1                   2990      0       CR2  \n",
      "2                   2962      0       CR2  \n",
      "3                   2990      0       CR2  \n",
      "4                   4078      0       CR2  \n"
     ]
    }
   ],
   "source": [
    "print(routes.head())\n"
   ]
  },
  {
   "cell_type": "markdown",
   "metadata": {
    "pycharm": {
     "name": "#%% md\n"
    }
   },
   "source": [
    "## countries.dat\n",
    "\n"
   ]
  },
  {
   "cell_type": "code",
   "execution_count": 28,
   "metadata": {
    "pycharm": {
     "name": "#%%\n"
    }
   },
   "outputs": [
    {
     "name": "stdout",
     "output_type": "stream",
     "text": [
      "                                name iso_code dafif_code\n",
      "0  Bonaire, Saint Eustatius and Saba       BQ        NaN\n",
      "1                              Aruba       AW         AA\n",
      "2                Antigua and Barbuda       AG         AC\n",
      "3               United Arab Emirates       AE         AE\n",
      "4                        Afghanistan       AF         AF\n",
      "name          0\n",
      "iso_code      1\n",
      "dafif_code    1\n",
      "dtype: int64\n"
     ]
    }
   ],
   "source": [
    "countries = pd.read_csv('countries.dat', delimiter=',', names=['name', 'iso_code', 'dafif_code'])\n",
    "print(countries.head())\n",
    "print(countries.isna().sum())\n"
   ]
  },
  {
   "cell_type": "code",
   "execution_count": 29,
   "metadata": {
    "pycharm": {
     "name": "#%%\n"
    }
   },
   "outputs": [],
   "source": [
    "# Remove rows with missing data in Equipment column\n",
    "countries.dropna(subset=['iso_code','dafif_code'], inplace=True)\n"
   ]
  },
  {
   "cell_type": "code",
   "execution_count": 30,
   "metadata": {
    "pycharm": {
     "name": "#%%\n"
    }
   },
   "outputs": [
    {
     "name": "stdout",
     "output_type": "stream",
     "text": [
      "                   name iso_code dafif_code\n",
      "1                 Aruba       AW         AA\n",
      "2   Antigua and Barbuda       AG         AC\n",
      "3  United Arab Emirates       AE         AE\n",
      "4           Afghanistan       AF         AF\n",
      "5               Algeria       DZ         AG\n"
     ]
    }
   ],
   "source": [
    "print(countries.head())\n"
   ]
  },
  {
   "cell_type": "markdown",
   "metadata": {},
   "source": [
    "## planes.dat"
   ]
  },
  {
   "cell_type": "code",
   "execution_count": 31,
   "metadata": {
    "pycharm": {
     "name": "#%%\n"
    }
   },
   "outputs": [
    {
     "name": "stdout",
     "output_type": "stream",
     "text": [
      "                                           Name IATA code ICAO code\n",
      "0                       Aerospatiale (Nord) 262       ND2      N262\n",
      "1  Aerospatiale (Sud Aviation) Se.210 Caravelle       CRV      S210\n",
      "2                  Aerospatiale SN.601 Corvette       NDC      S601\n",
      "3                Aerospatiale/Alenia ATR 42-300       AT4      AT43\n",
      "4                Aerospatiale/Alenia ATR 42-500       AT5      AT45\n",
      "Name         0\n",
      "IATA code    0\n",
      "ICAO code    0\n",
      "dtype: int64\n"
     ]
    }
   ],
   "source": [
    "planes = pd.read_csv('planes.dat', delimiter=',', names=['Name', 'IATA code', 'ICAO code'])\n",
    "print(planes.head())\n",
    "print(planes.isna().sum())"
   ]
  },
  {
   "cell_type": "markdown",
   "metadata": {},
   "source": [
    "# Visualization step"
   ]
  },
  {
   "cell_type": "code",
   "execution_count": 38,
   "metadata": {
    "pycharm": {
     "name": "#%%\n"
    }
   },
   "outputs": [
    {
     "ename": "ModuleNotFoundError",
     "evalue": "No module named 'altair_viewer'",
     "output_type": "error",
     "traceback": [
      "\u001b[0;31m---------------------------------------------------------------------------\u001b[0m",
      "\u001b[0;31mModuleNotFoundError\u001b[0m                       Traceback (most recent call last)",
      "Input \u001b[0;32mIn [38]\u001b[0m, in \u001b[0;36m<cell line: 2>\u001b[0;34m()\u001b[0m\n\u001b[1;32m      1\u001b[0m \u001b[38;5;28;01mimport\u001b[39;00m \u001b[38;5;21;01maltair\u001b[39;00m \u001b[38;5;28;01mas\u001b[39;00m \u001b[38;5;21;01malt\u001b[39;00m\n\u001b[0;32m----> 2\u001b[0m \u001b[38;5;28;01mfrom\u001b[39;00m \u001b[38;5;21;01maltair_viewer\u001b[39;00m \u001b[38;5;28;01mimport\u001b[39;00m show\n\u001b[1;32m      3\u001b[0m \u001b[38;5;66;03m# create a chart object\u001b[39;00m\n\u001b[1;32m      5\u001b[0m airports \u001b[38;5;241m=\u001b[39m airports\u001b[38;5;241m.\u001b[39mhead(\u001b[38;5;241m5000\u001b[39m)\n",
      "\u001b[0;31mModuleNotFoundError\u001b[0m: No module named 'altair_viewer'"
     ]
    }
   ],
   "source": [
    "import altair as alt\n",
    "from altair_viewer import show\n",
    "# create a chart object\n",
    "\n",
    "airports = airports.head(5000)\n",
    "routes = routes.head(5000)\n",
    "\n",
    "# add a layer for the airports\n",
    "chart = alt.Chart(airports).mark_circle().encode(\n",
    "    longitude='Longitude',\n",
    "    latitude='Latitude',\n",
    "    color=alt.Color('Country', legend=None),\n",
    "    tooltip=['Name', 'City', 'Country']\n",
    ")\n",
    "\n",
    "show(chart)\n",
    "\n",
    "\n"
   ]
  },
  {
   "cell_type": "code",
   "execution_count": null,
   "metadata": {},
   "outputs": [],
   "source": []
  }
 ],
 "metadata": {
  "kernelspec": {
   "display_name": "Python 3 (ipykernel)",
   "language": "python",
   "name": "python3"
  },
  "language_info": {
   "codemirror_mode": {
    "name": "ipython",
    "version": 3
   },
   "file_extension": ".py",
   "mimetype": "text/x-python",
   "name": "python",
   "nbconvert_exporter": "python",
   "pygments_lexer": "ipython3",
   "version": "3.9.12"
  }
 },
 "nbformat": 4,
 "nbformat_minor": 1
}
